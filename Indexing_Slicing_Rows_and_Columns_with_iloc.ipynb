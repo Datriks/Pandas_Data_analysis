{
  "nbformat": 4,
  "nbformat_minor": 0,
  "metadata": {
    "colab": {
      "name": "Indexing/Slicing Rows and Columns with iloc.ipynb",
      "provenance": [],
      "authorship_tag": "ABX9TyNPSKEojerpoA/6xMrgRpA4",
      "include_colab_link": true
    },
    "kernelspec": {
      "name": "python3",
      "display_name": "Python 3"
    }
  },
  "cells": [
    {
      "cell_type": "markdown",
      "metadata": {
        "id": "view-in-github",
        "colab_type": "text"
      },
      "source": [
        "<a href=\"https://colab.research.google.com/github/Datriks/Pandas_Data_analysis/blob/master/Indexing_Slicing_Rows_and_Columns_with_iloc.ipynb\" target=\"_parent\"><img src=\"https://colab.research.google.com/assets/colab-badge.svg\" alt=\"Open In Colab\"/></a>"
      ]
    },
    {
      "cell_type": "markdown",
      "metadata": {
        "id": "bO3hoW6X52xu",
        "colab_type": "text"
      },
      "source": [
        "### Indexing/Slicing Rows and Columns with iloc[]"
      ]
    },
    {
      "cell_type": "code",
      "metadata": {
        "id": "WNYOUDHS5-ie",
        "colab_type": "code",
        "colab": {}
      },
      "source": [
        "import pandas as pd"
      ],
      "execution_count": null,
      "outputs": []
    },
    {
      "cell_type": "code",
      "metadata": {
        "id": "2VeDY7Cn6NyB",
        "colab_type": "code",
        "colab": {}
      },
      "source": [
        "summer = pd.read_csv('summer.csv', index_col='Athlete')"
      ],
      "execution_count": null,
      "outputs": []
    },
    {
      "cell_type": "code",
      "metadata": {
        "id": "Yxy-ZP7x6bLA",
        "colab_type": "code",
        "colab": {
          "base_uri": "https://localhost:8080/",
          "height": 272
        },
        "outputId": "03660e9a-055e-47b0-8fd8-b4a55d3d2b0c"
      },
      "source": [
        "summer.info()"
      ],
      "execution_count": null,
      "outputs": [
        {
          "output_type": "stream",
          "text": [
            "<class 'pandas.core.frame.DataFrame'>\n",
            "Index: 31165 entries, HAJOS, Alfred to LIDBERG, Jimmy\n",
            "Data columns (total 8 columns):\n",
            " #   Column      Non-Null Count  Dtype \n",
            "---  ------      --------------  ----- \n",
            " 0   Year        31165 non-null  int64 \n",
            " 1   City        31165 non-null  object\n",
            " 2   Sport       31165 non-null  object\n",
            " 3   Discipline  31165 non-null  object\n",
            " 4   Country     31161 non-null  object\n",
            " 5   Gender      31165 non-null  object\n",
            " 6   Event       31165 non-null  object\n",
            " 7   Medal       31165 non-null  object\n",
            "dtypes: int64(1), object(7)\n",
            "memory usage: 2.1+ MB\n"
          ],
          "name": "stdout"
        }
      ]
    },
    {
      "cell_type": "code",
      "metadata": {
        "id": "XI8NR8I76d8Q",
        "colab_type": "code",
        "colab": {
          "base_uri": "https://localhost:8080/",
          "height": 442
        },
        "outputId": "6f51bfd9-426d-4738-f8fc-f9c1c2ffea72"
      },
      "source": [
        "summer.head()"
      ],
      "execution_count": null,
      "outputs": [
        {
          "output_type": "execute_result",
          "data": {
            "text/html": [
              "<div>\n",
              "<style scoped>\n",
              "    .dataframe tbody tr th:only-of-type {\n",
              "        vertical-align: middle;\n",
              "    }\n",
              "\n",
              "    .dataframe tbody tr th {\n",
              "        vertical-align: top;\n",
              "    }\n",
              "\n",
              "    .dataframe thead th {\n",
              "        text-align: right;\n",
              "    }\n",
              "</style>\n",
              "<table border=\"1\" class=\"dataframe\">\n",
              "  <thead>\n",
              "    <tr style=\"text-align: right;\">\n",
              "      <th></th>\n",
              "      <th>Year</th>\n",
              "      <th>City</th>\n",
              "      <th>Sport</th>\n",
              "      <th>Discipline</th>\n",
              "      <th>Country</th>\n",
              "      <th>Gender</th>\n",
              "      <th>Event</th>\n",
              "      <th>Medal</th>\n",
              "    </tr>\n",
              "    <tr>\n",
              "      <th>Athlete</th>\n",
              "      <th></th>\n",
              "      <th></th>\n",
              "      <th></th>\n",
              "      <th></th>\n",
              "      <th></th>\n",
              "      <th></th>\n",
              "      <th></th>\n",
              "      <th></th>\n",
              "    </tr>\n",
              "  </thead>\n",
              "  <tbody>\n",
              "    <tr>\n",
              "      <th>HAJOS, Alfred</th>\n",
              "      <td>1896</td>\n",
              "      <td>Athens</td>\n",
              "      <td>Aquatics</td>\n",
              "      <td>Swimming</td>\n",
              "      <td>HUN</td>\n",
              "      <td>Men</td>\n",
              "      <td>100M Freestyle</td>\n",
              "      <td>Gold</td>\n",
              "    </tr>\n",
              "    <tr>\n",
              "      <th>HERSCHMANN, Otto</th>\n",
              "      <td>1896</td>\n",
              "      <td>Athens</td>\n",
              "      <td>Aquatics</td>\n",
              "      <td>Swimming</td>\n",
              "      <td>AUT</td>\n",
              "      <td>Men</td>\n",
              "      <td>100M Freestyle</td>\n",
              "      <td>Silver</td>\n",
              "    </tr>\n",
              "    <tr>\n",
              "      <th>DRIVAS, Dimitrios</th>\n",
              "      <td>1896</td>\n",
              "      <td>Athens</td>\n",
              "      <td>Aquatics</td>\n",
              "      <td>Swimming</td>\n",
              "      <td>GRE</td>\n",
              "      <td>Men</td>\n",
              "      <td>100M Freestyle For Sailors</td>\n",
              "      <td>Bronze</td>\n",
              "    </tr>\n",
              "    <tr>\n",
              "      <th>MALOKINIS, Ioannis</th>\n",
              "      <td>1896</td>\n",
              "      <td>Athens</td>\n",
              "      <td>Aquatics</td>\n",
              "      <td>Swimming</td>\n",
              "      <td>GRE</td>\n",
              "      <td>Men</td>\n",
              "      <td>100M Freestyle For Sailors</td>\n",
              "      <td>Gold</td>\n",
              "    </tr>\n",
              "    <tr>\n",
              "      <th>CHASAPIS, Spiridon</th>\n",
              "      <td>1896</td>\n",
              "      <td>Athens</td>\n",
              "      <td>Aquatics</td>\n",
              "      <td>Swimming</td>\n",
              "      <td>GRE</td>\n",
              "      <td>Men</td>\n",
              "      <td>100M Freestyle For Sailors</td>\n",
              "      <td>Silver</td>\n",
              "    </tr>\n",
              "  </tbody>\n",
              "</table>\n",
              "</div>"
            ],
            "text/plain": [
              "                    Year    City  ...                       Event   Medal\n",
              "Athlete                           ...                                    \n",
              "HAJOS, Alfred       1896  Athens  ...              100M Freestyle    Gold\n",
              "HERSCHMANN, Otto    1896  Athens  ...              100M Freestyle  Silver\n",
              "DRIVAS, Dimitrios   1896  Athens  ...  100M Freestyle For Sailors  Bronze\n",
              "MALOKINIS, Ioannis  1896  Athens  ...  100M Freestyle For Sailors    Gold\n",
              "CHASAPIS, Spiridon  1896  Athens  ...  100M Freestyle For Sailors  Silver\n",
              "\n",
              "[5 rows x 8 columns]"
            ]
          },
          "metadata": {
            "tags": []
          },
          "execution_count": 6
        }
      ]
    },
    {
      "cell_type": "code",
      "metadata": {
        "id": "2BmsEVHq6vzd",
        "colab_type": "code",
        "colab": {
          "base_uri": "https://localhost:8080/",
          "height": 35
        },
        "outputId": "4f41f943-463d-4085-cbc6-f678aadba249"
      },
      "source": [
        "summer.iloc[0,4]"
      ],
      "execution_count": null,
      "outputs": [
        {
          "output_type": "execute_result",
          "data": {
            "application/vnd.google.colaboratory.intrinsic": {
              "type": "string"
            },
            "text/plain": [
              "'HUN'"
            ]
          },
          "metadata": {
            "tags": []
          },
          "execution_count": 8
        }
      ]
    },
    {
      "cell_type": "code",
      "metadata": {
        "id": "6W8_80gA652W",
        "colab_type": "code",
        "colab": {
          "base_uri": "https://localhost:8080/",
          "height": 85
        },
        "outputId": "af4bd36d-5dff-4e0c-c478-d55a895e3d44"
      },
      "source": [
        "summer.iloc[0,:3]"
      ],
      "execution_count": null,
      "outputs": [
        {
          "output_type": "execute_result",
          "data": {
            "text/plain": [
              "Year         1896\n",
              "City       Athens\n",
              "Sport    Aquatics\n",
              "Name: HAJOS, Alfred, dtype: object"
            ]
          },
          "metadata": {
            "tags": []
          },
          "execution_count": 9
        }
      ]
    },
    {
      "cell_type": "code",
      "metadata": {
        "id": "-ADjedzi7fgN",
        "colab_type": "code",
        "colab": {
          "base_uri": "https://localhost:8080/",
          "height": 204
        },
        "outputId": "1818fa7f-6a3e-43f4-de00-c652e535add3"
      },
      "source": [
        "summer.iloc[:4,:4]"
      ],
      "execution_count": null,
      "outputs": [
        {
          "output_type": "execute_result",
          "data": {
            "text/html": [
              "<div>\n",
              "<style scoped>\n",
              "    .dataframe tbody tr th:only-of-type {\n",
              "        vertical-align: middle;\n",
              "    }\n",
              "\n",
              "    .dataframe tbody tr th {\n",
              "        vertical-align: top;\n",
              "    }\n",
              "\n",
              "    .dataframe thead th {\n",
              "        text-align: right;\n",
              "    }\n",
              "</style>\n",
              "<table border=\"1\" class=\"dataframe\">\n",
              "  <thead>\n",
              "    <tr style=\"text-align: right;\">\n",
              "      <th></th>\n",
              "      <th>Year</th>\n",
              "      <th>City</th>\n",
              "      <th>Sport</th>\n",
              "      <th>Discipline</th>\n",
              "    </tr>\n",
              "    <tr>\n",
              "      <th>Athlete</th>\n",
              "      <th></th>\n",
              "      <th></th>\n",
              "      <th></th>\n",
              "      <th></th>\n",
              "    </tr>\n",
              "  </thead>\n",
              "  <tbody>\n",
              "    <tr>\n",
              "      <th>HAJOS, Alfred</th>\n",
              "      <td>1896</td>\n",
              "      <td>Athens</td>\n",
              "      <td>Aquatics</td>\n",
              "      <td>Swimming</td>\n",
              "    </tr>\n",
              "    <tr>\n",
              "      <th>HERSCHMANN, Otto</th>\n",
              "      <td>1896</td>\n",
              "      <td>Athens</td>\n",
              "      <td>Aquatics</td>\n",
              "      <td>Swimming</td>\n",
              "    </tr>\n",
              "    <tr>\n",
              "      <th>DRIVAS, Dimitrios</th>\n",
              "      <td>1896</td>\n",
              "      <td>Athens</td>\n",
              "      <td>Aquatics</td>\n",
              "      <td>Swimming</td>\n",
              "    </tr>\n",
              "    <tr>\n",
              "      <th>MALOKINIS, Ioannis</th>\n",
              "      <td>1896</td>\n",
              "      <td>Athens</td>\n",
              "      <td>Aquatics</td>\n",
              "      <td>Swimming</td>\n",
              "    </tr>\n",
              "  </tbody>\n",
              "</table>\n",
              "</div>"
            ],
            "text/plain": [
              "                    Year    City     Sport Discipline\n",
              "Athlete                                              \n",
              "HAJOS, Alfred       1896  Athens  Aquatics   Swimming\n",
              "HERSCHMANN, Otto    1896  Athens  Aquatics   Swimming\n",
              "DRIVAS, Dimitrios   1896  Athens  Aquatics   Swimming\n",
              "MALOKINIS, Ioannis  1896  Athens  Aquatics   Swimming"
            ]
          },
          "metadata": {
            "tags": []
          },
          "execution_count": 10
        }
      ]
    },
    {
      "cell_type": "code",
      "metadata": {
        "id": "9U-SFjhO7v4N",
        "colab_type": "code",
        "colab": {
          "base_uri": "https://localhost:8080/",
          "height": 102
        },
        "outputId": "fffe7a55-56e6-44c8-e1d5-7fdc50f00516"
      },
      "source": [
        "summer.iloc[0,[0,2,5,7]]"
      ],
      "execution_count": null,
      "outputs": [
        {
          "output_type": "execute_result",
          "data": {
            "text/plain": [
              "Year          1896\n",
              "Sport     Aquatics\n",
              "Gender         Men\n",
              "Medal         Gold\n",
              "Name: HAJOS, Alfred, dtype: object"
            ]
          },
          "metadata": {
            "tags": []
          },
          "execution_count": 11
        }
      ]
    },
    {
      "cell_type": "code",
      "metadata": {
        "id": "Io3L5Gdz8Evw",
        "colab_type": "code",
        "colab": {
          "base_uri": "https://localhost:8080/",
          "height": 235
        },
        "outputId": "2cd6b362-c799-4479-fd37-fab370482bb3"
      },
      "source": [
        "summer.iloc[34:39,[0,2,5,7]]"
      ],
      "execution_count": null,
      "outputs": [
        {
          "output_type": "execute_result",
          "data": {
            "text/html": [
              "<div>\n",
              "<style scoped>\n",
              "    .dataframe tbody tr th:only-of-type {\n",
              "        vertical-align: middle;\n",
              "    }\n",
              "\n",
              "    .dataframe tbody tr th {\n",
              "        vertical-align: top;\n",
              "    }\n",
              "\n",
              "    .dataframe thead th {\n",
              "        text-align: right;\n",
              "    }\n",
              "</style>\n",
              "<table border=\"1\" class=\"dataframe\">\n",
              "  <thead>\n",
              "    <tr style=\"text-align: right;\">\n",
              "      <th></th>\n",
              "      <th>Year</th>\n",
              "      <th>Sport</th>\n",
              "      <th>Gender</th>\n",
              "      <th>Medal</th>\n",
              "    </tr>\n",
              "    <tr>\n",
              "      <th>Athlete</th>\n",
              "      <th></th>\n",
              "      <th></th>\n",
              "      <th></th>\n",
              "      <th></th>\n",
              "    </tr>\n",
              "  </thead>\n",
              "  <tbody>\n",
              "    <tr>\n",
              "      <th>GARRETT, Robert</th>\n",
              "      <td>1896</td>\n",
              "      <td>Athletics</td>\n",
              "      <td>Men</td>\n",
              "      <td>Silver</td>\n",
              "    </tr>\n",
              "    <tr>\n",
              "      <th>KELLNER, Gyula</th>\n",
              "      <td>1896</td>\n",
              "      <td>Athletics</td>\n",
              "      <td>Men</td>\n",
              "      <td>Bronze</td>\n",
              "    </tr>\n",
              "    <tr>\n",
              "      <th>LOUIS, Spyridon</th>\n",
              "      <td>1896</td>\n",
              "      <td>Athletics</td>\n",
              "      <td>Men</td>\n",
              "      <td>Gold</td>\n",
              "    </tr>\n",
              "    <tr>\n",
              "      <th>VASILAKOS, Kharilaos</th>\n",
              "      <td>1896</td>\n",
              "      <td>Athletics</td>\n",
              "      <td>Men</td>\n",
              "      <td>Silver</td>\n",
              "    </tr>\n",
              "    <tr>\n",
              "      <th>DAMASKOS, Evangelos</th>\n",
              "      <td>1896</td>\n",
              "      <td>Athletics</td>\n",
              "      <td>Men</td>\n",
              "      <td>Bronze</td>\n",
              "    </tr>\n",
              "  </tbody>\n",
              "</table>\n",
              "</div>"
            ],
            "text/plain": [
              "                      Year      Sport Gender   Medal\n",
              "Athlete                                             \n",
              "GARRETT, Robert       1896  Athletics    Men  Silver\n",
              "KELLNER, Gyula        1896  Athletics    Men  Bronze\n",
              "LOUIS, Spyridon       1896  Athletics    Men    Gold\n",
              "VASILAKOS, Kharilaos  1896  Athletics    Men  Silver\n",
              "DAMASKOS, Evangelos   1896  Athletics    Men  Bronze"
            ]
          },
          "metadata": {
            "tags": []
          },
          "execution_count": 12
        }
      ]
    },
    {
      "cell_type": "markdown",
      "metadata": {
        "id": "EOccXKfL8gps",
        "colab_type": "text"
      },
      "source": [
        "### Selecting Columns with iloc[]"
      ]
    },
    {
      "cell_type": "code",
      "metadata": {
        "id": "i9LbfBIX8Xtl",
        "colab_type": "code",
        "colab": {
          "base_uri": "https://localhost:8080/",
          "height": 34
        },
        "outputId": "bc8e7a9c-d94d-47d5-d9f6-38cbf9d19aee"
      },
      "source": [
        "summer.iloc[:,4].equals(summer.Country)"
      ],
      "execution_count": null,
      "outputs": [
        {
          "output_type": "execute_result",
          "data": {
            "text/plain": [
              "True"
            ]
          },
          "metadata": {
            "tags": []
          },
          "execution_count": 14
        }
      ]
    },
    {
      "cell_type": "code",
      "metadata": {
        "id": "YJA4ej6-8r_M",
        "colab_type": "code",
        "colab": {
          "base_uri": "https://localhost:8080/",
          "height": 238
        },
        "outputId": "efaef9fa-941b-4ee2-c460-7ec04e2170f1"
      },
      "source": [
        "summer.iloc[:,4]"
      ],
      "execution_count": null,
      "outputs": [
        {
          "output_type": "execute_result",
          "data": {
            "text/plain": [
              "Athlete\n",
              "HAJOS, Alfred                HUN\n",
              "HERSCHMANN, Otto             AUT\n",
              "DRIVAS, Dimitrios            GRE\n",
              "MALOKINIS, Ioannis           GRE\n",
              "CHASAPIS, Spiridon           GRE\n",
              "                            ... \n",
              "JANIKOWSKI, Damian           POL\n",
              "REZAEI, Ghasem Gholamreza    IRI\n",
              "TOTROV, Rustam               RUS\n",
              "ALEKSANYAN, Artur            ARM\n",
              "LIDBERG, Jimmy               SWE\n",
              "Name: Country, Length: 31165, dtype: object"
            ]
          },
          "metadata": {
            "tags": []
          },
          "execution_count": 15
        }
      ]
    },
    {
      "cell_type": "code",
      "metadata": {
        "id": "C1AAbUSk9Dzx",
        "colab_type": "code",
        "colab": {
          "base_uri": "https://localhost:8080/",
          "height": 238
        },
        "outputId": "1874d949-6b03-495a-c1f2-a85e572f2c19"
      },
      "source": [
        "summer.Country"
      ],
      "execution_count": null,
      "outputs": [
        {
          "output_type": "execute_result",
          "data": {
            "text/plain": [
              "Athlete\n",
              "HAJOS, Alfred                HUN\n",
              "HERSCHMANN, Otto             AUT\n",
              "DRIVAS, Dimitrios            GRE\n",
              "MALOKINIS, Ioannis           GRE\n",
              "CHASAPIS, Spiridon           GRE\n",
              "                            ... \n",
              "JANIKOWSKI, Damian           POL\n",
              "REZAEI, Ghasem Gholamreza    IRI\n",
              "TOTROV, Rustam               RUS\n",
              "ALEKSANYAN, Artur            ARM\n",
              "LIDBERG, Jimmy               SWE\n",
              "Name: Country, Length: 31165, dtype: object"
            ]
          },
          "metadata": {
            "tags": []
          },
          "execution_count": 17
        }
      ]
    },
    {
      "cell_type": "code",
      "metadata": {
        "id": "gVbHdKBL9GLs",
        "colab_type": "code",
        "colab": {
          "base_uri": "https://localhost:8080/",
          "height": 238
        },
        "outputId": "db7768e9-c83e-4d7b-f1fb-3a04437ef2d0"
      },
      "source": [
        "summer['Country']"
      ],
      "execution_count": null,
      "outputs": [
        {
          "output_type": "execute_result",
          "data": {
            "text/plain": [
              "Athlete\n",
              "HAJOS, Alfred                HUN\n",
              "HERSCHMANN, Otto             AUT\n",
              "DRIVAS, Dimitrios            GRE\n",
              "MALOKINIS, Ioannis           GRE\n",
              "CHASAPIS, Spiridon           GRE\n",
              "                            ... \n",
              "JANIKOWSKI, Damian           POL\n",
              "REZAEI, Ghasem Gholamreza    IRI\n",
              "TOTROV, Rustam               RUS\n",
              "ALEKSANYAN, Artur            ARM\n",
              "LIDBERG, Jimmy               SWE\n",
              "Name: Country, Length: 31165, dtype: object"
            ]
          },
          "metadata": {
            "tags": []
          },
          "execution_count": 18
        }
      ]
    },
    {
      "cell_type": "code",
      "metadata": {
        "id": "lDtFHg0-9LK4",
        "colab_type": "code",
        "colab": {}
      },
      "source": [
        ""
      ],
      "execution_count": null,
      "outputs": []
    }
  ]
}