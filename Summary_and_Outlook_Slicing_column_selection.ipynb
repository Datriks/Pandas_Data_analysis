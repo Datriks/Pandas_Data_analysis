{
  "nbformat": 4,
  "nbformat_minor": 0,
  "metadata": {
    "colab": {
      "name": "Summary and Outlook Slicing-column selection.ipynb",
      "provenance": [],
      "authorship_tag": "ABX9TyNxtTNAm6evrycm5Q+4zXlV",
      "include_colab_link": true
    },
    "kernelspec": {
      "name": "python3",
      "display_name": "Python 3"
    }
  },
  "cells": [
    {
      "cell_type": "markdown",
      "metadata": {
        "id": "view-in-github",
        "colab_type": "text"
      },
      "source": [
        "<a href=\"https://colab.research.google.com/github/Datriks/Pandas_Data_analysis/blob/master/Summary_and_Outlook_Slicing_column_selection.ipynb\" target=\"_parent\"><img src=\"https://colab.research.google.com/assets/colab-badge.svg\" alt=\"Open In Colab\"/></a>"
      ]
    },
    {
      "cell_type": "code",
      "metadata": {
        "id": "5dcGCrr2J8TF",
        "colab_type": "code",
        "colab": {}
      },
      "source": [
        "import pandas as pd\n"
      ],
      "execution_count": null,
      "outputs": []
    },
    {
      "cell_type": "code",
      "metadata": {
        "id": "KhShSgQDKesX",
        "colab_type": "code",
        "colab": {
          "base_uri": "https://localhost:8080/",
          "height": 442
        },
        "outputId": "15c7cba9-8d2f-46f1-c4b7-646500009f0c"
      },
      "source": [
        "summer = pd.read_csv('summer.csv', index_col='Athlete')\n",
        "summer.head()"
      ],
      "execution_count": null,
      "outputs": [
        {
          "output_type": "execute_result",
          "data": {
            "text/html": [
              "<div>\n",
              "<style scoped>\n",
              "    .dataframe tbody tr th:only-of-type {\n",
              "        vertical-align: middle;\n",
              "    }\n",
              "\n",
              "    .dataframe tbody tr th {\n",
              "        vertical-align: top;\n",
              "    }\n",
              "\n",
              "    .dataframe thead th {\n",
              "        text-align: right;\n",
              "    }\n",
              "</style>\n",
              "<table border=\"1\" class=\"dataframe\">\n",
              "  <thead>\n",
              "    <tr style=\"text-align: right;\">\n",
              "      <th></th>\n",
              "      <th>Year</th>\n",
              "      <th>City</th>\n",
              "      <th>Sport</th>\n",
              "      <th>Discipline</th>\n",
              "      <th>Country</th>\n",
              "      <th>Gender</th>\n",
              "      <th>Event</th>\n",
              "      <th>Medal</th>\n",
              "    </tr>\n",
              "    <tr>\n",
              "      <th>Athlete</th>\n",
              "      <th></th>\n",
              "      <th></th>\n",
              "      <th></th>\n",
              "      <th></th>\n",
              "      <th></th>\n",
              "      <th></th>\n",
              "      <th></th>\n",
              "      <th></th>\n",
              "    </tr>\n",
              "  </thead>\n",
              "  <tbody>\n",
              "    <tr>\n",
              "      <th>HAJOS, Alfred</th>\n",
              "      <td>1896</td>\n",
              "      <td>Athens</td>\n",
              "      <td>Aquatics</td>\n",
              "      <td>Swimming</td>\n",
              "      <td>HUN</td>\n",
              "      <td>Men</td>\n",
              "      <td>100M Freestyle</td>\n",
              "      <td>Gold</td>\n",
              "    </tr>\n",
              "    <tr>\n",
              "      <th>HERSCHMANN, Otto</th>\n",
              "      <td>1896</td>\n",
              "      <td>Athens</td>\n",
              "      <td>Aquatics</td>\n",
              "      <td>Swimming</td>\n",
              "      <td>AUT</td>\n",
              "      <td>Men</td>\n",
              "      <td>100M Freestyle</td>\n",
              "      <td>Silver</td>\n",
              "    </tr>\n",
              "    <tr>\n",
              "      <th>DRIVAS, Dimitrios</th>\n",
              "      <td>1896</td>\n",
              "      <td>Athens</td>\n",
              "      <td>Aquatics</td>\n",
              "      <td>Swimming</td>\n",
              "      <td>GRE</td>\n",
              "      <td>Men</td>\n",
              "      <td>100M Freestyle For Sailors</td>\n",
              "      <td>Bronze</td>\n",
              "    </tr>\n",
              "    <tr>\n",
              "      <th>MALOKINIS, Ioannis</th>\n",
              "      <td>1896</td>\n",
              "      <td>Athens</td>\n",
              "      <td>Aquatics</td>\n",
              "      <td>Swimming</td>\n",
              "      <td>GRE</td>\n",
              "      <td>Men</td>\n",
              "      <td>100M Freestyle For Sailors</td>\n",
              "      <td>Gold</td>\n",
              "    </tr>\n",
              "    <tr>\n",
              "      <th>CHASAPIS, Spiridon</th>\n",
              "      <td>1896</td>\n",
              "      <td>Athens</td>\n",
              "      <td>Aquatics</td>\n",
              "      <td>Swimming</td>\n",
              "      <td>GRE</td>\n",
              "      <td>Men</td>\n",
              "      <td>100M Freestyle For Sailors</td>\n",
              "      <td>Silver</td>\n",
              "    </tr>\n",
              "  </tbody>\n",
              "</table>\n",
              "</div>"
            ],
            "text/plain": [
              "                    Year    City  ...                       Event   Medal\n",
              "Athlete                           ...                                    \n",
              "HAJOS, Alfred       1896  Athens  ...              100M Freestyle    Gold\n",
              "HERSCHMANN, Otto    1896  Athens  ...              100M Freestyle  Silver\n",
              "DRIVAS, Dimitrios   1896  Athens  ...  100M Freestyle For Sailors  Bronze\n",
              "MALOKINIS, Ioannis  1896  Athens  ...  100M Freestyle For Sailors    Gold\n",
              "CHASAPIS, Spiridon  1896  Athens  ...  100M Freestyle For Sailors  Silver\n",
              "\n",
              "[5 rows x 8 columns]"
            ]
          },
          "metadata": {
            "tags": []
          },
          "execution_count": 2
        }
      ]
    },
    {
      "cell_type": "code",
      "metadata": {
        "id": "T6JbAi04KpAM",
        "colab_type": "code",
        "colab": {
          "base_uri": "https://localhost:8080/",
          "height": 272
        },
        "outputId": "bd53d4e3-b3bc-4a04-f72d-30f7917b29f6"
      },
      "source": [
        "summer.info()"
      ],
      "execution_count": null,
      "outputs": [
        {
          "output_type": "stream",
          "text": [
            "<class 'pandas.core.frame.DataFrame'>\n",
            "Index: 31165 entries, HAJOS, Alfred to LIDBERG, Jimmy\n",
            "Data columns (total 8 columns):\n",
            " #   Column      Non-Null Count  Dtype \n",
            "---  ------      --------------  ----- \n",
            " 0   Year        31165 non-null  int64 \n",
            " 1   City        31165 non-null  object\n",
            " 2   Sport       31165 non-null  object\n",
            " 3   Discipline  31165 non-null  object\n",
            " 4   Country     31161 non-null  object\n",
            " 5   Gender      31165 non-null  object\n",
            " 6   Event       31165 non-null  object\n",
            " 7   Medal       31165 non-null  object\n",
            "dtypes: int64(1), object(7)\n",
            "memory usage: 2.8+ MB\n"
          ],
          "name": "stdout"
        }
      ]
    },
    {
      "cell_type": "markdown",
      "metadata": {
        "id": "UMoNNcbsKuUA",
        "colab_type": "text"
      },
      "source": [
        "### Selecting one column"
      ]
    },
    {
      "cell_type": "code",
      "metadata": {
        "id": "fJyYJBNaKrif",
        "colab_type": "code",
        "colab": {
          "base_uri": "https://localhost:8080/",
          "height": 238
        },
        "outputId": "87e314d8-b2a0-4590-a8cd-6bfd93fe5c7f"
      },
      "source": [
        "summer.Medal"
      ],
      "execution_count": null,
      "outputs": [
        {
          "output_type": "execute_result",
          "data": {
            "text/plain": [
              "Athlete\n",
              "HAJOS, Alfred                  Gold\n",
              "HERSCHMANN, Otto             Silver\n",
              "DRIVAS, Dimitrios            Bronze\n",
              "MALOKINIS, Ioannis             Gold\n",
              "CHASAPIS, Spiridon           Silver\n",
              "                              ...  \n",
              "JANIKOWSKI, Damian           Bronze\n",
              "REZAEI, Ghasem Gholamreza      Gold\n",
              "TOTROV, Rustam               Silver\n",
              "ALEKSANYAN, Artur            Bronze\n",
              "LIDBERG, Jimmy               Bronze\n",
              "Name: Medal, Length: 31165, dtype: object"
            ]
          },
          "metadata": {
            "tags": []
          },
          "execution_count": 6
        }
      ]
    },
    {
      "cell_type": "code",
      "metadata": {
        "id": "RW9jwFRQKzDG",
        "colab_type": "code",
        "colab": {
          "base_uri": "https://localhost:8080/",
          "height": 238
        },
        "outputId": "879401fc-2020-41f4-b695-59c888e497bc"
      },
      "source": [
        "summer['Medal']"
      ],
      "execution_count": null,
      "outputs": [
        {
          "output_type": "execute_result",
          "data": {
            "text/plain": [
              "Athlete\n",
              "HAJOS, Alfred                  Gold\n",
              "HERSCHMANN, Otto             Silver\n",
              "DRIVAS, Dimitrios            Bronze\n",
              "MALOKINIS, Ioannis             Gold\n",
              "CHASAPIS, Spiridon           Silver\n",
              "                              ...  \n",
              "JANIKOWSKI, Damian           Bronze\n",
              "REZAEI, Ghasem Gholamreza      Gold\n",
              "TOTROV, Rustam               Silver\n",
              "ALEKSANYAN, Artur            Bronze\n",
              "LIDBERG, Jimmy               Bronze\n",
              "Name: Medal, Length: 31165, dtype: object"
            ]
          },
          "metadata": {
            "tags": []
          },
          "execution_count": 7
        }
      ]
    },
    {
      "cell_type": "markdown",
      "metadata": {
        "id": "9O0mX1BWK6gh",
        "colab_type": "text"
      },
      "source": [
        "### Selecting Multiple columns"
      ]
    },
    {
      "cell_type": "code",
      "metadata": {
        "id": "5MyLGI1lK4TJ",
        "colab_type": "code",
        "colab": {
          "base_uri": "https://localhost:8080/",
          "height": 68
        },
        "outputId": "23319f5c-3d3d-40fc-b66c-8142501322a9"
      },
      "source": [
        "summer.columns"
      ],
      "execution_count": null,
      "outputs": [
        {
          "output_type": "execute_result",
          "data": {
            "text/plain": [
              "Index(['Year', 'City', 'Sport', 'Discipline', 'Country', 'Gender', 'Event',\n",
              "       'Medal'],\n",
              "      dtype='object')"
            ]
          },
          "metadata": {
            "tags": []
          },
          "execution_count": 8
        }
      ]
    },
    {
      "cell_type": "code",
      "metadata": {
        "id": "DlePhA1aLBLV",
        "colab_type": "code",
        "colab": {
          "base_uri": "https://localhost:8080/",
          "height": 235
        },
        "outputId": "fd905aac-cc2b-429f-cfcd-c515c30c0c2a"
      },
      "source": [
        "summer[['Discipline','Event','Medal']].head()"
      ],
      "execution_count": null,
      "outputs": [
        {
          "output_type": "execute_result",
          "data": {
            "text/html": [
              "<div>\n",
              "<style scoped>\n",
              "    .dataframe tbody tr th:only-of-type {\n",
              "        vertical-align: middle;\n",
              "    }\n",
              "\n",
              "    .dataframe tbody tr th {\n",
              "        vertical-align: top;\n",
              "    }\n",
              "\n",
              "    .dataframe thead th {\n",
              "        text-align: right;\n",
              "    }\n",
              "</style>\n",
              "<table border=\"1\" class=\"dataframe\">\n",
              "  <thead>\n",
              "    <tr style=\"text-align: right;\">\n",
              "      <th></th>\n",
              "      <th>Discipline</th>\n",
              "      <th>Event</th>\n",
              "      <th>Medal</th>\n",
              "    </tr>\n",
              "    <tr>\n",
              "      <th>Athlete</th>\n",
              "      <th></th>\n",
              "      <th></th>\n",
              "      <th></th>\n",
              "    </tr>\n",
              "  </thead>\n",
              "  <tbody>\n",
              "    <tr>\n",
              "      <th>HAJOS, Alfred</th>\n",
              "      <td>Swimming</td>\n",
              "      <td>100M Freestyle</td>\n",
              "      <td>Gold</td>\n",
              "    </tr>\n",
              "    <tr>\n",
              "      <th>HERSCHMANN, Otto</th>\n",
              "      <td>Swimming</td>\n",
              "      <td>100M Freestyle</td>\n",
              "      <td>Silver</td>\n",
              "    </tr>\n",
              "    <tr>\n",
              "      <th>DRIVAS, Dimitrios</th>\n",
              "      <td>Swimming</td>\n",
              "      <td>100M Freestyle For Sailors</td>\n",
              "      <td>Bronze</td>\n",
              "    </tr>\n",
              "    <tr>\n",
              "      <th>MALOKINIS, Ioannis</th>\n",
              "      <td>Swimming</td>\n",
              "      <td>100M Freestyle For Sailors</td>\n",
              "      <td>Gold</td>\n",
              "    </tr>\n",
              "    <tr>\n",
              "      <th>CHASAPIS, Spiridon</th>\n",
              "      <td>Swimming</td>\n",
              "      <td>100M Freestyle For Sailors</td>\n",
              "      <td>Silver</td>\n",
              "    </tr>\n",
              "  </tbody>\n",
              "</table>\n",
              "</div>"
            ],
            "text/plain": [
              "                   Discipline                       Event   Medal\n",
              "Athlete                                                          \n",
              "HAJOS, Alfred        Swimming              100M Freestyle    Gold\n",
              "HERSCHMANN, Otto     Swimming              100M Freestyle  Silver\n",
              "DRIVAS, Dimitrios    Swimming  100M Freestyle For Sailors  Bronze\n",
              "MALOKINIS, Ioannis   Swimming  100M Freestyle For Sailors    Gold\n",
              "CHASAPIS, Spiridon   Swimming  100M Freestyle For Sailors  Silver"
            ]
          },
          "metadata": {
            "tags": []
          },
          "execution_count": 10
        }
      ]
    },
    {
      "cell_type": "code",
      "metadata": {
        "id": "21-CUssuLKw_",
        "colab_type": "code",
        "colab": {
          "base_uri": "https://localhost:8080/",
          "height": 235
        },
        "outputId": "5698f9b0-4ec1-4985-9f5f-0d90e0432588"
      },
      "source": [
        "summer.loc[:,['Year','Medal']].head()"
      ],
      "execution_count": null,
      "outputs": [
        {
          "output_type": "execute_result",
          "data": {
            "text/html": [
              "<div>\n",
              "<style scoped>\n",
              "    .dataframe tbody tr th:only-of-type {\n",
              "        vertical-align: middle;\n",
              "    }\n",
              "\n",
              "    .dataframe tbody tr th {\n",
              "        vertical-align: top;\n",
              "    }\n",
              "\n",
              "    .dataframe thead th {\n",
              "        text-align: right;\n",
              "    }\n",
              "</style>\n",
              "<table border=\"1\" class=\"dataframe\">\n",
              "  <thead>\n",
              "    <tr style=\"text-align: right;\">\n",
              "      <th></th>\n",
              "      <th>Year</th>\n",
              "      <th>Medal</th>\n",
              "    </tr>\n",
              "    <tr>\n",
              "      <th>Athlete</th>\n",
              "      <th></th>\n",
              "      <th></th>\n",
              "    </tr>\n",
              "  </thead>\n",
              "  <tbody>\n",
              "    <tr>\n",
              "      <th>HAJOS, Alfred</th>\n",
              "      <td>1896</td>\n",
              "      <td>Gold</td>\n",
              "    </tr>\n",
              "    <tr>\n",
              "      <th>HERSCHMANN, Otto</th>\n",
              "      <td>1896</td>\n",
              "      <td>Silver</td>\n",
              "    </tr>\n",
              "    <tr>\n",
              "      <th>DRIVAS, Dimitrios</th>\n",
              "      <td>1896</td>\n",
              "      <td>Bronze</td>\n",
              "    </tr>\n",
              "    <tr>\n",
              "      <th>MALOKINIS, Ioannis</th>\n",
              "      <td>1896</td>\n",
              "      <td>Gold</td>\n",
              "    </tr>\n",
              "    <tr>\n",
              "      <th>CHASAPIS, Spiridon</th>\n",
              "      <td>1896</td>\n",
              "      <td>Silver</td>\n",
              "    </tr>\n",
              "  </tbody>\n",
              "</table>\n",
              "</div>"
            ],
            "text/plain": [
              "                    Year   Medal\n",
              "Athlete                         \n",
              "HAJOS, Alfred       1896    Gold\n",
              "HERSCHMANN, Otto    1896  Silver\n",
              "DRIVAS, Dimitrios   1896  Bronze\n",
              "MALOKINIS, Ioannis  1896    Gold\n",
              "CHASAPIS, Spiridon  1896  Silver"
            ]
          },
          "metadata": {
            "tags": []
          },
          "execution_count": 11
        }
      ]
    },
    {
      "cell_type": "markdown",
      "metadata": {
        "id": "EgT6nWesLw_j",
        "colab_type": "text"
      },
      "source": [
        "### Selecting Positional Rows"
      ]
    },
    {
      "cell_type": "code",
      "metadata": {
        "id": "Xr1IIu-mLsI-",
        "colab_type": "code",
        "colab": {
          "base_uri": "https://localhost:8080/",
          "height": 557
        },
        "outputId": "f33a16dc-cbb1-4bfe-d47d-7f6bf833a4ed"
      },
      "source": [
        "summer.iloc[10:21]"
      ],
      "execution_count": null,
      "outputs": [
        {
          "output_type": "execute_result",
          "data": {
            "text/html": [
              "<div>\n",
              "<style scoped>\n",
              "    .dataframe tbody tr th:only-of-type {\n",
              "        vertical-align: middle;\n",
              "    }\n",
              "\n",
              "    .dataframe tbody tr th {\n",
              "        vertical-align: top;\n",
              "    }\n",
              "\n",
              "    .dataframe thead th {\n",
              "        text-align: right;\n",
              "    }\n",
              "</style>\n",
              "<table border=\"1\" class=\"dataframe\">\n",
              "  <thead>\n",
              "    <tr style=\"text-align: right;\">\n",
              "      <th></th>\n",
              "      <th>Year</th>\n",
              "      <th>City</th>\n",
              "      <th>Sport</th>\n",
              "      <th>Discipline</th>\n",
              "      <th>Country</th>\n",
              "      <th>Gender</th>\n",
              "      <th>Event</th>\n",
              "      <th>Medal</th>\n",
              "    </tr>\n",
              "    <tr>\n",
              "      <th>Athlete</th>\n",
              "      <th></th>\n",
              "      <th></th>\n",
              "      <th></th>\n",
              "      <th></th>\n",
              "      <th></th>\n",
              "      <th></th>\n",
              "      <th></th>\n",
              "      <th></th>\n",
              "    </tr>\n",
              "  </thead>\n",
              "  <tbody>\n",
              "    <tr>\n",
              "      <th>PEPANOS, Antonios</th>\n",
              "      <td>1896</td>\n",
              "      <td>Athens</td>\n",
              "      <td>Aquatics</td>\n",
              "      <td>Swimming</td>\n",
              "      <td>GRE</td>\n",
              "      <td>Men</td>\n",
              "      <td>400M Freestyle</td>\n",
              "      <td>Silver</td>\n",
              "    </tr>\n",
              "    <tr>\n",
              "      <th>LANE, Francis</th>\n",
              "      <td>1896</td>\n",
              "      <td>Athens</td>\n",
              "      <td>Athletics</td>\n",
              "      <td>Athletics</td>\n",
              "      <td>USA</td>\n",
              "      <td>Men</td>\n",
              "      <td>100M</td>\n",
              "      <td>Bronze</td>\n",
              "    </tr>\n",
              "    <tr>\n",
              "      <th>SZOKOLYI, Alajos</th>\n",
              "      <td>1896</td>\n",
              "      <td>Athens</td>\n",
              "      <td>Athletics</td>\n",
              "      <td>Athletics</td>\n",
              "      <td>HUN</td>\n",
              "      <td>Men</td>\n",
              "      <td>100M</td>\n",
              "      <td>Bronze</td>\n",
              "    </tr>\n",
              "    <tr>\n",
              "      <th>BURKE, Thomas</th>\n",
              "      <td>1896</td>\n",
              "      <td>Athens</td>\n",
              "      <td>Athletics</td>\n",
              "      <td>Athletics</td>\n",
              "      <td>USA</td>\n",
              "      <td>Men</td>\n",
              "      <td>100M</td>\n",
              "      <td>Gold</td>\n",
              "    </tr>\n",
              "    <tr>\n",
              "      <th>HOFMANN, Fritz</th>\n",
              "      <td>1896</td>\n",
              "      <td>Athens</td>\n",
              "      <td>Athletics</td>\n",
              "      <td>Athletics</td>\n",
              "      <td>GER</td>\n",
              "      <td>Men</td>\n",
              "      <td>100M</td>\n",
              "      <td>Silver</td>\n",
              "    </tr>\n",
              "    <tr>\n",
              "      <th>CURTIS, Thomas</th>\n",
              "      <td>1896</td>\n",
              "      <td>Athens</td>\n",
              "      <td>Athletics</td>\n",
              "      <td>Athletics</td>\n",
              "      <td>USA</td>\n",
              "      <td>Men</td>\n",
              "      <td>110M Hurdles</td>\n",
              "      <td>Gold</td>\n",
              "    </tr>\n",
              "    <tr>\n",
              "      <th>GOULDING, Grantley</th>\n",
              "      <td>1896</td>\n",
              "      <td>Athens</td>\n",
              "      <td>Athletics</td>\n",
              "      <td>Athletics</td>\n",
              "      <td>GBR</td>\n",
              "      <td>Men</td>\n",
              "      <td>110M Hurdles</td>\n",
              "      <td>Silver</td>\n",
              "    </tr>\n",
              "    <tr>\n",
              "      <th>LERMUSIAUX, Albin</th>\n",
              "      <td>1896</td>\n",
              "      <td>Athens</td>\n",
              "      <td>Athletics</td>\n",
              "      <td>Athletics</td>\n",
              "      <td>FRA</td>\n",
              "      <td>Men</td>\n",
              "      <td>1500M</td>\n",
              "      <td>Bronze</td>\n",
              "    </tr>\n",
              "    <tr>\n",
              "      <th>FLACK, Edwin</th>\n",
              "      <td>1896</td>\n",
              "      <td>Athens</td>\n",
              "      <td>Athletics</td>\n",
              "      <td>Athletics</td>\n",
              "      <td>AUS</td>\n",
              "      <td>Men</td>\n",
              "      <td>1500M</td>\n",
              "      <td>Gold</td>\n",
              "    </tr>\n",
              "    <tr>\n",
              "      <th>BLAKE, Arthur</th>\n",
              "      <td>1896</td>\n",
              "      <td>Athens</td>\n",
              "      <td>Athletics</td>\n",
              "      <td>Athletics</td>\n",
              "      <td>USA</td>\n",
              "      <td>Men</td>\n",
              "      <td>1500M</td>\n",
              "      <td>Silver</td>\n",
              "    </tr>\n",
              "    <tr>\n",
              "      <th>GMELIN, Charles</th>\n",
              "      <td>1896</td>\n",
              "      <td>Athens</td>\n",
              "      <td>Athletics</td>\n",
              "      <td>Athletics</td>\n",
              "      <td>GBR</td>\n",
              "      <td>Men</td>\n",
              "      <td>400M</td>\n",
              "      <td>Bronze</td>\n",
              "    </tr>\n",
              "  </tbody>\n",
              "</table>\n",
              "</div>"
            ],
            "text/plain": [
              "                    Year    City      Sport  ... Gender           Event   Medal\n",
              "Athlete                                      ...                               \n",
              "PEPANOS, Antonios   1896  Athens   Aquatics  ...    Men  400M Freestyle  Silver\n",
              "LANE, Francis       1896  Athens  Athletics  ...    Men            100M  Bronze\n",
              "SZOKOLYI, Alajos    1896  Athens  Athletics  ...    Men            100M  Bronze\n",
              "BURKE, Thomas       1896  Athens  Athletics  ...    Men            100M    Gold\n",
              "HOFMANN, Fritz      1896  Athens  Athletics  ...    Men            100M  Silver\n",
              "CURTIS, Thomas      1896  Athens  Athletics  ...    Men    110M Hurdles    Gold\n",
              "GOULDING, Grantley  1896  Athens  Athletics  ...    Men    110M Hurdles  Silver\n",
              "LERMUSIAUX, Albin   1896  Athens  Athletics  ...    Men           1500M  Bronze\n",
              "FLACK, Edwin        1896  Athens  Athletics  ...    Men           1500M    Gold\n",
              "BLAKE, Arthur       1896  Athens  Athletics  ...    Men           1500M  Silver\n",
              "GMELIN, Charles     1896  Athens  Athletics  ...    Men            400M  Bronze\n",
              "\n",
              "[11 rows x 8 columns]"
            ]
          },
          "metadata": {
            "tags": []
          },
          "execution_count": 12
        }
      ]
    },
    {
      "cell_type": "markdown",
      "metadata": {
        "id": "GTx5aR0CL8pb",
        "colab_type": "text"
      },
      "source": [
        "### Selecting Labeled Rows"
      ]
    },
    {
      "cell_type": "code",
      "metadata": {
        "id": "dD-UQkeEL4_a",
        "colab_type": "code",
        "colab": {
          "base_uri": "https://localhost:8080/",
          "height": 560
        },
        "outputId": "f988462a-bd0d-4f94-8a22-fb4d3dd92a28"
      },
      "source": [
        "summer.loc['LEWIS, Carl']"
      ],
      "execution_count": null,
      "outputs": [
        {
          "output_type": "execute_result",
          "data": {
            "text/html": [
              "<div>\n",
              "<style scoped>\n",
              "    .dataframe tbody tr th:only-of-type {\n",
              "        vertical-align: middle;\n",
              "    }\n",
              "\n",
              "    .dataframe tbody tr th {\n",
              "        vertical-align: top;\n",
              "    }\n",
              "\n",
              "    .dataframe thead th {\n",
              "        text-align: right;\n",
              "    }\n",
              "</style>\n",
              "<table border=\"1\" class=\"dataframe\">\n",
              "  <thead>\n",
              "    <tr style=\"text-align: right;\">\n",
              "      <th></th>\n",
              "      <th>Year</th>\n",
              "      <th>City</th>\n",
              "      <th>Sport</th>\n",
              "      <th>Discipline</th>\n",
              "      <th>Country</th>\n",
              "      <th>Gender</th>\n",
              "      <th>Event</th>\n",
              "      <th>Medal</th>\n",
              "    </tr>\n",
              "    <tr>\n",
              "      <th>Athlete</th>\n",
              "      <th></th>\n",
              "      <th></th>\n",
              "      <th></th>\n",
              "      <th></th>\n",
              "      <th></th>\n",
              "      <th></th>\n",
              "      <th></th>\n",
              "      <th></th>\n",
              "    </tr>\n",
              "  </thead>\n",
              "  <tbody>\n",
              "    <tr>\n",
              "      <th>LEWIS, Carl</th>\n",
              "      <td>1984</td>\n",
              "      <td>Los Angeles</td>\n",
              "      <td>Athletics</td>\n",
              "      <td>Athletics</td>\n",
              "      <td>USA</td>\n",
              "      <td>Men</td>\n",
              "      <td>100M</td>\n",
              "      <td>Gold</td>\n",
              "    </tr>\n",
              "    <tr>\n",
              "      <th>LEWIS, Carl</th>\n",
              "      <td>1984</td>\n",
              "      <td>Los Angeles</td>\n",
              "      <td>Athletics</td>\n",
              "      <td>Athletics</td>\n",
              "      <td>USA</td>\n",
              "      <td>Men</td>\n",
              "      <td>200M</td>\n",
              "      <td>Gold</td>\n",
              "    </tr>\n",
              "    <tr>\n",
              "      <th>LEWIS, Carl</th>\n",
              "      <td>1984</td>\n",
              "      <td>Los Angeles</td>\n",
              "      <td>Athletics</td>\n",
              "      <td>Athletics</td>\n",
              "      <td>USA</td>\n",
              "      <td>Men</td>\n",
              "      <td>4X100M Relay</td>\n",
              "      <td>Gold</td>\n",
              "    </tr>\n",
              "    <tr>\n",
              "      <th>LEWIS, Carl</th>\n",
              "      <td>1984</td>\n",
              "      <td>Los Angeles</td>\n",
              "      <td>Athletics</td>\n",
              "      <td>Athletics</td>\n",
              "      <td>USA</td>\n",
              "      <td>Men</td>\n",
              "      <td>Long Jump</td>\n",
              "      <td>Gold</td>\n",
              "    </tr>\n",
              "    <tr>\n",
              "      <th>LEWIS, Carl</th>\n",
              "      <td>1988</td>\n",
              "      <td>Seoul</td>\n",
              "      <td>Athletics</td>\n",
              "      <td>Athletics</td>\n",
              "      <td>USA</td>\n",
              "      <td>Men</td>\n",
              "      <td>100M</td>\n",
              "      <td>Gold</td>\n",
              "    </tr>\n",
              "    <tr>\n",
              "      <th>LEWIS, Carl</th>\n",
              "      <td>1988</td>\n",
              "      <td>Seoul</td>\n",
              "      <td>Athletics</td>\n",
              "      <td>Athletics</td>\n",
              "      <td>USA</td>\n",
              "      <td>Men</td>\n",
              "      <td>200M</td>\n",
              "      <td>Silver</td>\n",
              "    </tr>\n",
              "    <tr>\n",
              "      <th>LEWIS, Carl</th>\n",
              "      <td>1988</td>\n",
              "      <td>Seoul</td>\n",
              "      <td>Athletics</td>\n",
              "      <td>Athletics</td>\n",
              "      <td>USA</td>\n",
              "      <td>Men</td>\n",
              "      <td>Long Jump</td>\n",
              "      <td>Gold</td>\n",
              "    </tr>\n",
              "    <tr>\n",
              "      <th>LEWIS, Carl</th>\n",
              "      <td>1992</td>\n",
              "      <td>Barcelona</td>\n",
              "      <td>Athletics</td>\n",
              "      <td>Athletics</td>\n",
              "      <td>USA</td>\n",
              "      <td>Men</td>\n",
              "      <td>4X100M Relay</td>\n",
              "      <td>Gold</td>\n",
              "    </tr>\n",
              "    <tr>\n",
              "      <th>LEWIS, Carl</th>\n",
              "      <td>1992</td>\n",
              "      <td>Barcelona</td>\n",
              "      <td>Athletics</td>\n",
              "      <td>Athletics</td>\n",
              "      <td>USA</td>\n",
              "      <td>Men</td>\n",
              "      <td>Long Jump</td>\n",
              "      <td>Gold</td>\n",
              "    </tr>\n",
              "    <tr>\n",
              "      <th>LEWIS, Carl</th>\n",
              "      <td>1996</td>\n",
              "      <td>Atlanta</td>\n",
              "      <td>Athletics</td>\n",
              "      <td>Athletics</td>\n",
              "      <td>USA</td>\n",
              "      <td>Men</td>\n",
              "      <td>Long Jump</td>\n",
              "      <td>Gold</td>\n",
              "    </tr>\n",
              "  </tbody>\n",
              "</table>\n",
              "</div>"
            ],
            "text/plain": [
              "             Year         City      Sport  ... Gender         Event   Medal\n",
              "Athlete                                    ...                             \n",
              "LEWIS, Carl  1984  Los Angeles  Athletics  ...    Men          100M    Gold\n",
              "LEWIS, Carl  1984  Los Angeles  Athletics  ...    Men          200M    Gold\n",
              "LEWIS, Carl  1984  Los Angeles  Athletics  ...    Men  4X100M Relay    Gold\n",
              "LEWIS, Carl  1984  Los Angeles  Athletics  ...    Men     Long Jump    Gold\n",
              "LEWIS, Carl  1988        Seoul  Athletics  ...    Men          100M    Gold\n",
              "LEWIS, Carl  1988        Seoul  Athletics  ...    Men          200M  Silver\n",
              "LEWIS, Carl  1988        Seoul  Athletics  ...    Men     Long Jump    Gold\n",
              "LEWIS, Carl  1992    Barcelona  Athletics  ...    Men  4X100M Relay    Gold\n",
              "LEWIS, Carl  1992    Barcelona  Athletics  ...    Men     Long Jump    Gold\n",
              "LEWIS, Carl  1996      Atlanta  Athletics  ...    Men     Long Jump    Gold\n",
              "\n",
              "[10 rows x 8 columns]"
            ]
          },
          "metadata": {
            "tags": []
          },
          "execution_count": 14
        }
      ]
    },
    {
      "cell_type": "markdown",
      "metadata": {
        "id": "4rLRCLtWMgTv",
        "colab_type": "text"
      },
      "source": [
        "### Putting all together"
      ]
    },
    {
      "cell_type": "code",
      "metadata": {
        "id": "BPDcAbTHMXoR",
        "colab_type": "code",
        "colab": {
          "base_uri": "https://localhost:8080/",
          "height": 390
        },
        "outputId": "14e6d49c-e5b7-4303-e9f7-0afc5bcc5a49"
      },
      "source": [
        "summer[['Year','Event','Medal']].loc['LEWIS, Carl']"
      ],
      "execution_count": null,
      "outputs": [
        {
          "output_type": "execute_result",
          "data": {
            "text/html": [
              "<div>\n",
              "<style scoped>\n",
              "    .dataframe tbody tr th:only-of-type {\n",
              "        vertical-align: middle;\n",
              "    }\n",
              "\n",
              "    .dataframe tbody tr th {\n",
              "        vertical-align: top;\n",
              "    }\n",
              "\n",
              "    .dataframe thead th {\n",
              "        text-align: right;\n",
              "    }\n",
              "</style>\n",
              "<table border=\"1\" class=\"dataframe\">\n",
              "  <thead>\n",
              "    <tr style=\"text-align: right;\">\n",
              "      <th></th>\n",
              "      <th>Year</th>\n",
              "      <th>Event</th>\n",
              "      <th>Medal</th>\n",
              "    </tr>\n",
              "    <tr>\n",
              "      <th>Athlete</th>\n",
              "      <th></th>\n",
              "      <th></th>\n",
              "      <th></th>\n",
              "    </tr>\n",
              "  </thead>\n",
              "  <tbody>\n",
              "    <tr>\n",
              "      <th>LEWIS, Carl</th>\n",
              "      <td>1984</td>\n",
              "      <td>100M</td>\n",
              "      <td>Gold</td>\n",
              "    </tr>\n",
              "    <tr>\n",
              "      <th>LEWIS, Carl</th>\n",
              "      <td>1984</td>\n",
              "      <td>200M</td>\n",
              "      <td>Gold</td>\n",
              "    </tr>\n",
              "    <tr>\n",
              "      <th>LEWIS, Carl</th>\n",
              "      <td>1984</td>\n",
              "      <td>4X100M Relay</td>\n",
              "      <td>Gold</td>\n",
              "    </tr>\n",
              "    <tr>\n",
              "      <th>LEWIS, Carl</th>\n",
              "      <td>1984</td>\n",
              "      <td>Long Jump</td>\n",
              "      <td>Gold</td>\n",
              "    </tr>\n",
              "    <tr>\n",
              "      <th>LEWIS, Carl</th>\n",
              "      <td>1988</td>\n",
              "      <td>100M</td>\n",
              "      <td>Gold</td>\n",
              "    </tr>\n",
              "    <tr>\n",
              "      <th>LEWIS, Carl</th>\n",
              "      <td>1988</td>\n",
              "      <td>200M</td>\n",
              "      <td>Silver</td>\n",
              "    </tr>\n",
              "    <tr>\n",
              "      <th>LEWIS, Carl</th>\n",
              "      <td>1988</td>\n",
              "      <td>Long Jump</td>\n",
              "      <td>Gold</td>\n",
              "    </tr>\n",
              "    <tr>\n",
              "      <th>LEWIS, Carl</th>\n",
              "      <td>1992</td>\n",
              "      <td>4X100M Relay</td>\n",
              "      <td>Gold</td>\n",
              "    </tr>\n",
              "    <tr>\n",
              "      <th>LEWIS, Carl</th>\n",
              "      <td>1992</td>\n",
              "      <td>Long Jump</td>\n",
              "      <td>Gold</td>\n",
              "    </tr>\n",
              "    <tr>\n",
              "      <th>LEWIS, Carl</th>\n",
              "      <td>1996</td>\n",
              "      <td>Long Jump</td>\n",
              "      <td>Gold</td>\n",
              "    </tr>\n",
              "  </tbody>\n",
              "</table>\n",
              "</div>"
            ],
            "text/plain": [
              "             Year         Event   Medal\n",
              "Athlete                                \n",
              "LEWIS, Carl  1984          100M    Gold\n",
              "LEWIS, Carl  1984          200M    Gold\n",
              "LEWIS, Carl  1984  4X100M Relay    Gold\n",
              "LEWIS, Carl  1984     Long Jump    Gold\n",
              "LEWIS, Carl  1988          100M    Gold\n",
              "LEWIS, Carl  1988          200M  Silver\n",
              "LEWIS, Carl  1988     Long Jump    Gold\n",
              "LEWIS, Carl  1992  4X100M Relay    Gold\n",
              "LEWIS, Carl  1992     Long Jump    Gold\n",
              "LEWIS, Carl  1996     Long Jump    Gold"
            ]
          },
          "metadata": {
            "tags": []
          },
          "execution_count": 15
        }
      ]
    },
    {
      "cell_type": "code",
      "metadata": {
        "id": "MlrD2czwM-pF",
        "colab_type": "code",
        "colab": {
          "base_uri": "https://localhost:8080/",
          "height": 762
        },
        "outputId": "01bc9827-ad73-4a73-a21a-51fe5482ef2a"
      },
      "source": [
        "summer[['Year','Event','Medal']].loc['PHELPS, Michael']"
      ],
      "execution_count": null,
      "outputs": [
        {
          "output_type": "execute_result",
          "data": {
            "text/html": [
              "<div>\n",
              "<style scoped>\n",
              "    .dataframe tbody tr th:only-of-type {\n",
              "        vertical-align: middle;\n",
              "    }\n",
              "\n",
              "    .dataframe tbody tr th {\n",
              "        vertical-align: top;\n",
              "    }\n",
              "\n",
              "    .dataframe thead th {\n",
              "        text-align: right;\n",
              "    }\n",
              "</style>\n",
              "<table border=\"1\" class=\"dataframe\">\n",
              "  <thead>\n",
              "    <tr style=\"text-align: right;\">\n",
              "      <th></th>\n",
              "      <th>Year</th>\n",
              "      <th>Event</th>\n",
              "      <th>Medal</th>\n",
              "    </tr>\n",
              "    <tr>\n",
              "      <th>Athlete</th>\n",
              "      <th></th>\n",
              "      <th></th>\n",
              "      <th></th>\n",
              "    </tr>\n",
              "  </thead>\n",
              "  <tbody>\n",
              "    <tr>\n",
              "      <th>PHELPS, Michael</th>\n",
              "      <td>2004</td>\n",
              "      <td>100M Butterfly</td>\n",
              "      <td>Gold</td>\n",
              "    </tr>\n",
              "    <tr>\n",
              "      <th>PHELPS, Michael</th>\n",
              "      <td>2004</td>\n",
              "      <td>200M Butterfly</td>\n",
              "      <td>Gold</td>\n",
              "    </tr>\n",
              "    <tr>\n",
              "      <th>PHELPS, Michael</th>\n",
              "      <td>2004</td>\n",
              "      <td>200M Freestyle</td>\n",
              "      <td>Bronze</td>\n",
              "    </tr>\n",
              "    <tr>\n",
              "      <th>PHELPS, Michael</th>\n",
              "      <td>2004</td>\n",
              "      <td>200M Individual Medley</td>\n",
              "      <td>Gold</td>\n",
              "    </tr>\n",
              "    <tr>\n",
              "      <th>PHELPS, Michael</th>\n",
              "      <td>2004</td>\n",
              "      <td>400M Individual Medley</td>\n",
              "      <td>Gold</td>\n",
              "    </tr>\n",
              "    <tr>\n",
              "      <th>PHELPS, Michael</th>\n",
              "      <td>2004</td>\n",
              "      <td>4X100M Freestyle Relay</td>\n",
              "      <td>Bronze</td>\n",
              "    </tr>\n",
              "    <tr>\n",
              "      <th>PHELPS, Michael</th>\n",
              "      <td>2004</td>\n",
              "      <td>4X100M Medley Relay</td>\n",
              "      <td>Gold</td>\n",
              "    </tr>\n",
              "    <tr>\n",
              "      <th>PHELPS, Michael</th>\n",
              "      <td>2004</td>\n",
              "      <td>4X200M Freestyle Relay</td>\n",
              "      <td>Gold</td>\n",
              "    </tr>\n",
              "    <tr>\n",
              "      <th>PHELPS, Michael</th>\n",
              "      <td>2008</td>\n",
              "      <td>100M Butterfly</td>\n",
              "      <td>Gold</td>\n",
              "    </tr>\n",
              "    <tr>\n",
              "      <th>PHELPS, Michael</th>\n",
              "      <td>2008</td>\n",
              "      <td>200M Butterfly</td>\n",
              "      <td>Gold</td>\n",
              "    </tr>\n",
              "    <tr>\n",
              "      <th>PHELPS, Michael</th>\n",
              "      <td>2008</td>\n",
              "      <td>200M Freestyle</td>\n",
              "      <td>Gold</td>\n",
              "    </tr>\n",
              "    <tr>\n",
              "      <th>PHELPS, Michael</th>\n",
              "      <td>2008</td>\n",
              "      <td>200M Individual Medley</td>\n",
              "      <td>Gold</td>\n",
              "    </tr>\n",
              "    <tr>\n",
              "      <th>PHELPS, Michael</th>\n",
              "      <td>2008</td>\n",
              "      <td>400M Individual Medley</td>\n",
              "      <td>Gold</td>\n",
              "    </tr>\n",
              "    <tr>\n",
              "      <th>PHELPS, Michael</th>\n",
              "      <td>2008</td>\n",
              "      <td>4X100M Freestyle Relay</td>\n",
              "      <td>Gold</td>\n",
              "    </tr>\n",
              "    <tr>\n",
              "      <th>PHELPS, Michael</th>\n",
              "      <td>2008</td>\n",
              "      <td>4X100M Medley Relay</td>\n",
              "      <td>Gold</td>\n",
              "    </tr>\n",
              "    <tr>\n",
              "      <th>PHELPS, Michael</th>\n",
              "      <td>2008</td>\n",
              "      <td>4X200M Freestyle Relay</td>\n",
              "      <td>Gold</td>\n",
              "    </tr>\n",
              "    <tr>\n",
              "      <th>PHELPS, Michael</th>\n",
              "      <td>2012</td>\n",
              "      <td>100M Butterfly</td>\n",
              "      <td>Gold</td>\n",
              "    </tr>\n",
              "    <tr>\n",
              "      <th>PHELPS, Michael</th>\n",
              "      <td>2012</td>\n",
              "      <td>200M Butterfly</td>\n",
              "      <td>Silver</td>\n",
              "    </tr>\n",
              "    <tr>\n",
              "      <th>PHELPS, Michael</th>\n",
              "      <td>2012</td>\n",
              "      <td>200M Medley</td>\n",
              "      <td>Gold</td>\n",
              "    </tr>\n",
              "    <tr>\n",
              "      <th>PHELPS, Michael</th>\n",
              "      <td>2012</td>\n",
              "      <td>4X100M Freestyle</td>\n",
              "      <td>Silver</td>\n",
              "    </tr>\n",
              "    <tr>\n",
              "      <th>PHELPS, Michael</th>\n",
              "      <td>2012</td>\n",
              "      <td>4X100M Medley</td>\n",
              "      <td>Gold</td>\n",
              "    </tr>\n",
              "    <tr>\n",
              "      <th>PHELPS, Michael</th>\n",
              "      <td>2012</td>\n",
              "      <td>4X200M Freestyle</td>\n",
              "      <td>Gold</td>\n",
              "    </tr>\n",
              "  </tbody>\n",
              "</table>\n",
              "</div>"
            ],
            "text/plain": [
              "                 Year                   Event   Medal\n",
              "Athlete                                              \n",
              "PHELPS, Michael  2004          100M Butterfly    Gold\n",
              "PHELPS, Michael  2004          200M Butterfly    Gold\n",
              "PHELPS, Michael  2004          200M Freestyle  Bronze\n",
              "PHELPS, Michael  2004  200M Individual Medley    Gold\n",
              "PHELPS, Michael  2004  400M Individual Medley    Gold\n",
              "PHELPS, Michael  2004  4X100M Freestyle Relay  Bronze\n",
              "PHELPS, Michael  2004     4X100M Medley Relay    Gold\n",
              "PHELPS, Michael  2004  4X200M Freestyle Relay    Gold\n",
              "PHELPS, Michael  2008          100M Butterfly    Gold\n",
              "PHELPS, Michael  2008          200M Butterfly    Gold\n",
              "PHELPS, Michael  2008          200M Freestyle    Gold\n",
              "PHELPS, Michael  2008  200M Individual Medley    Gold\n",
              "PHELPS, Michael  2008  400M Individual Medley    Gold\n",
              "PHELPS, Michael  2008  4X100M Freestyle Relay    Gold\n",
              "PHELPS, Michael  2008     4X100M Medley Relay    Gold\n",
              "PHELPS, Michael  2008  4X200M Freestyle Relay    Gold\n",
              "PHELPS, Michael  2012          100M Butterfly    Gold\n",
              "PHELPS, Michael  2012          200M Butterfly  Silver\n",
              "PHELPS, Michael  2012             200M Medley    Gold\n",
              "PHELPS, Michael  2012        4X100M Freestyle  Silver\n",
              "PHELPS, Michael  2012           4X100M Medley    Gold\n",
              "PHELPS, Michael  2012        4X200M Freestyle    Gold"
            ]
          },
          "metadata": {
            "tags": []
          },
          "execution_count": 16
        }
      ]
    },
    {
      "cell_type": "code",
      "metadata": {
        "id": "jdOZhAJ4NMgi",
        "colab_type": "code",
        "colab": {
          "base_uri": "https://localhost:8080/",
          "height": 762
        },
        "outputId": "c0945d46-aa6f-4791-ea71-590883a60bab"
      },
      "source": [
        "summer.loc['PHELPS, Michael'][['Year','Event','Medal']]"
      ],
      "execution_count": null,
      "outputs": [
        {
          "output_type": "execute_result",
          "data": {
            "text/html": [
              "<div>\n",
              "<style scoped>\n",
              "    .dataframe tbody tr th:only-of-type {\n",
              "        vertical-align: middle;\n",
              "    }\n",
              "\n",
              "    .dataframe tbody tr th {\n",
              "        vertical-align: top;\n",
              "    }\n",
              "\n",
              "    .dataframe thead th {\n",
              "        text-align: right;\n",
              "    }\n",
              "</style>\n",
              "<table border=\"1\" class=\"dataframe\">\n",
              "  <thead>\n",
              "    <tr style=\"text-align: right;\">\n",
              "      <th></th>\n",
              "      <th>Year</th>\n",
              "      <th>Event</th>\n",
              "      <th>Medal</th>\n",
              "    </tr>\n",
              "    <tr>\n",
              "      <th>Athlete</th>\n",
              "      <th></th>\n",
              "      <th></th>\n",
              "      <th></th>\n",
              "    </tr>\n",
              "  </thead>\n",
              "  <tbody>\n",
              "    <tr>\n",
              "      <th>PHELPS, Michael</th>\n",
              "      <td>2004</td>\n",
              "      <td>100M Butterfly</td>\n",
              "      <td>Gold</td>\n",
              "    </tr>\n",
              "    <tr>\n",
              "      <th>PHELPS, Michael</th>\n",
              "      <td>2004</td>\n",
              "      <td>200M Butterfly</td>\n",
              "      <td>Gold</td>\n",
              "    </tr>\n",
              "    <tr>\n",
              "      <th>PHELPS, Michael</th>\n",
              "      <td>2004</td>\n",
              "      <td>200M Freestyle</td>\n",
              "      <td>Bronze</td>\n",
              "    </tr>\n",
              "    <tr>\n",
              "      <th>PHELPS, Michael</th>\n",
              "      <td>2004</td>\n",
              "      <td>200M Individual Medley</td>\n",
              "      <td>Gold</td>\n",
              "    </tr>\n",
              "    <tr>\n",
              "      <th>PHELPS, Michael</th>\n",
              "      <td>2004</td>\n",
              "      <td>400M Individual Medley</td>\n",
              "      <td>Gold</td>\n",
              "    </tr>\n",
              "    <tr>\n",
              "      <th>PHELPS, Michael</th>\n",
              "      <td>2004</td>\n",
              "      <td>4X100M Freestyle Relay</td>\n",
              "      <td>Bronze</td>\n",
              "    </tr>\n",
              "    <tr>\n",
              "      <th>PHELPS, Michael</th>\n",
              "      <td>2004</td>\n",
              "      <td>4X100M Medley Relay</td>\n",
              "      <td>Gold</td>\n",
              "    </tr>\n",
              "    <tr>\n",
              "      <th>PHELPS, Michael</th>\n",
              "      <td>2004</td>\n",
              "      <td>4X200M Freestyle Relay</td>\n",
              "      <td>Gold</td>\n",
              "    </tr>\n",
              "    <tr>\n",
              "      <th>PHELPS, Michael</th>\n",
              "      <td>2008</td>\n",
              "      <td>100M Butterfly</td>\n",
              "      <td>Gold</td>\n",
              "    </tr>\n",
              "    <tr>\n",
              "      <th>PHELPS, Michael</th>\n",
              "      <td>2008</td>\n",
              "      <td>200M Butterfly</td>\n",
              "      <td>Gold</td>\n",
              "    </tr>\n",
              "    <tr>\n",
              "      <th>PHELPS, Michael</th>\n",
              "      <td>2008</td>\n",
              "      <td>200M Freestyle</td>\n",
              "      <td>Gold</td>\n",
              "    </tr>\n",
              "    <tr>\n",
              "      <th>PHELPS, Michael</th>\n",
              "      <td>2008</td>\n",
              "      <td>200M Individual Medley</td>\n",
              "      <td>Gold</td>\n",
              "    </tr>\n",
              "    <tr>\n",
              "      <th>PHELPS, Michael</th>\n",
              "      <td>2008</td>\n",
              "      <td>400M Individual Medley</td>\n",
              "      <td>Gold</td>\n",
              "    </tr>\n",
              "    <tr>\n",
              "      <th>PHELPS, Michael</th>\n",
              "      <td>2008</td>\n",
              "      <td>4X100M Freestyle Relay</td>\n",
              "      <td>Gold</td>\n",
              "    </tr>\n",
              "    <tr>\n",
              "      <th>PHELPS, Michael</th>\n",
              "      <td>2008</td>\n",
              "      <td>4X100M Medley Relay</td>\n",
              "      <td>Gold</td>\n",
              "    </tr>\n",
              "    <tr>\n",
              "      <th>PHELPS, Michael</th>\n",
              "      <td>2008</td>\n",
              "      <td>4X200M Freestyle Relay</td>\n",
              "      <td>Gold</td>\n",
              "    </tr>\n",
              "    <tr>\n",
              "      <th>PHELPS, Michael</th>\n",
              "      <td>2012</td>\n",
              "      <td>100M Butterfly</td>\n",
              "      <td>Gold</td>\n",
              "    </tr>\n",
              "    <tr>\n",
              "      <th>PHELPS, Michael</th>\n",
              "      <td>2012</td>\n",
              "      <td>200M Butterfly</td>\n",
              "      <td>Silver</td>\n",
              "    </tr>\n",
              "    <tr>\n",
              "      <th>PHELPS, Michael</th>\n",
              "      <td>2012</td>\n",
              "      <td>200M Medley</td>\n",
              "      <td>Gold</td>\n",
              "    </tr>\n",
              "    <tr>\n",
              "      <th>PHELPS, Michael</th>\n",
              "      <td>2012</td>\n",
              "      <td>4X100M Freestyle</td>\n",
              "      <td>Silver</td>\n",
              "    </tr>\n",
              "    <tr>\n",
              "      <th>PHELPS, Michael</th>\n",
              "      <td>2012</td>\n",
              "      <td>4X100M Medley</td>\n",
              "      <td>Gold</td>\n",
              "    </tr>\n",
              "    <tr>\n",
              "      <th>PHELPS, Michael</th>\n",
              "      <td>2012</td>\n",
              "      <td>4X200M Freestyle</td>\n",
              "      <td>Gold</td>\n",
              "    </tr>\n",
              "  </tbody>\n",
              "</table>\n",
              "</div>"
            ],
            "text/plain": [
              "                 Year                   Event   Medal\n",
              "Athlete                                              \n",
              "PHELPS, Michael  2004          100M Butterfly    Gold\n",
              "PHELPS, Michael  2004          200M Butterfly    Gold\n",
              "PHELPS, Michael  2004          200M Freestyle  Bronze\n",
              "PHELPS, Michael  2004  200M Individual Medley    Gold\n",
              "PHELPS, Michael  2004  400M Individual Medley    Gold\n",
              "PHELPS, Michael  2004  4X100M Freestyle Relay  Bronze\n",
              "PHELPS, Michael  2004     4X100M Medley Relay    Gold\n",
              "PHELPS, Michael  2004  4X200M Freestyle Relay    Gold\n",
              "PHELPS, Michael  2008          100M Butterfly    Gold\n",
              "PHELPS, Michael  2008          200M Butterfly    Gold\n",
              "PHELPS, Michael  2008          200M Freestyle    Gold\n",
              "PHELPS, Michael  2008  200M Individual Medley    Gold\n",
              "PHELPS, Michael  2008  400M Individual Medley    Gold\n",
              "PHELPS, Michael  2008  4X100M Freestyle Relay    Gold\n",
              "PHELPS, Michael  2008     4X100M Medley Relay    Gold\n",
              "PHELPS, Michael  2008  4X200M Freestyle Relay    Gold\n",
              "PHELPS, Michael  2012          100M Butterfly    Gold\n",
              "PHELPS, Michael  2012          200M Butterfly  Silver\n",
              "PHELPS, Michael  2012             200M Medley    Gold\n",
              "PHELPS, Michael  2012        4X100M Freestyle  Silver\n",
              "PHELPS, Michael  2012           4X100M Medley    Gold\n",
              "PHELPS, Michael  2012        4X200M Freestyle    Gold"
            ]
          },
          "metadata": {
            "tags": []
          },
          "execution_count": 18
        }
      ]
    },
    {
      "cell_type": "code",
      "metadata": {
        "id": "hGkkwR7kNY0l",
        "colab_type": "code",
        "colab": {
          "base_uri": "https://localhost:8080/",
          "height": 762
        },
        "outputId": "78b89c1d-5f24-42a8-9be5-0e58b225ea8d"
      },
      "source": [
        "# this is the best method\n",
        "summer.loc['PHELPS, Michael',['Year','Event','Medal']]"
      ],
      "execution_count": null,
      "outputs": [
        {
          "output_type": "execute_result",
          "data": {
            "text/html": [
              "<div>\n",
              "<style scoped>\n",
              "    .dataframe tbody tr th:only-of-type {\n",
              "        vertical-align: middle;\n",
              "    }\n",
              "\n",
              "    .dataframe tbody tr th {\n",
              "        vertical-align: top;\n",
              "    }\n",
              "\n",
              "    .dataframe thead th {\n",
              "        text-align: right;\n",
              "    }\n",
              "</style>\n",
              "<table border=\"1\" class=\"dataframe\">\n",
              "  <thead>\n",
              "    <tr style=\"text-align: right;\">\n",
              "      <th></th>\n",
              "      <th>Year</th>\n",
              "      <th>Event</th>\n",
              "      <th>Medal</th>\n",
              "    </tr>\n",
              "    <tr>\n",
              "      <th>Athlete</th>\n",
              "      <th></th>\n",
              "      <th></th>\n",
              "      <th></th>\n",
              "    </tr>\n",
              "  </thead>\n",
              "  <tbody>\n",
              "    <tr>\n",
              "      <th>PHELPS, Michael</th>\n",
              "      <td>2004</td>\n",
              "      <td>100M Butterfly</td>\n",
              "      <td>Gold</td>\n",
              "    </tr>\n",
              "    <tr>\n",
              "      <th>PHELPS, Michael</th>\n",
              "      <td>2004</td>\n",
              "      <td>200M Butterfly</td>\n",
              "      <td>Gold</td>\n",
              "    </tr>\n",
              "    <tr>\n",
              "      <th>PHELPS, Michael</th>\n",
              "      <td>2004</td>\n",
              "      <td>200M Freestyle</td>\n",
              "      <td>Bronze</td>\n",
              "    </tr>\n",
              "    <tr>\n",
              "      <th>PHELPS, Michael</th>\n",
              "      <td>2004</td>\n",
              "      <td>200M Individual Medley</td>\n",
              "      <td>Gold</td>\n",
              "    </tr>\n",
              "    <tr>\n",
              "      <th>PHELPS, Michael</th>\n",
              "      <td>2004</td>\n",
              "      <td>400M Individual Medley</td>\n",
              "      <td>Gold</td>\n",
              "    </tr>\n",
              "    <tr>\n",
              "      <th>PHELPS, Michael</th>\n",
              "      <td>2004</td>\n",
              "      <td>4X100M Freestyle Relay</td>\n",
              "      <td>Bronze</td>\n",
              "    </tr>\n",
              "    <tr>\n",
              "      <th>PHELPS, Michael</th>\n",
              "      <td>2004</td>\n",
              "      <td>4X100M Medley Relay</td>\n",
              "      <td>Gold</td>\n",
              "    </tr>\n",
              "    <tr>\n",
              "      <th>PHELPS, Michael</th>\n",
              "      <td>2004</td>\n",
              "      <td>4X200M Freestyle Relay</td>\n",
              "      <td>Gold</td>\n",
              "    </tr>\n",
              "    <tr>\n",
              "      <th>PHELPS, Michael</th>\n",
              "      <td>2008</td>\n",
              "      <td>100M Butterfly</td>\n",
              "      <td>Gold</td>\n",
              "    </tr>\n",
              "    <tr>\n",
              "      <th>PHELPS, Michael</th>\n",
              "      <td>2008</td>\n",
              "      <td>200M Butterfly</td>\n",
              "      <td>Gold</td>\n",
              "    </tr>\n",
              "    <tr>\n",
              "      <th>PHELPS, Michael</th>\n",
              "      <td>2008</td>\n",
              "      <td>200M Freestyle</td>\n",
              "      <td>Gold</td>\n",
              "    </tr>\n",
              "    <tr>\n",
              "      <th>PHELPS, Michael</th>\n",
              "      <td>2008</td>\n",
              "      <td>200M Individual Medley</td>\n",
              "      <td>Gold</td>\n",
              "    </tr>\n",
              "    <tr>\n",
              "      <th>PHELPS, Michael</th>\n",
              "      <td>2008</td>\n",
              "      <td>400M Individual Medley</td>\n",
              "      <td>Gold</td>\n",
              "    </tr>\n",
              "    <tr>\n",
              "      <th>PHELPS, Michael</th>\n",
              "      <td>2008</td>\n",
              "      <td>4X100M Freestyle Relay</td>\n",
              "      <td>Gold</td>\n",
              "    </tr>\n",
              "    <tr>\n",
              "      <th>PHELPS, Michael</th>\n",
              "      <td>2008</td>\n",
              "      <td>4X100M Medley Relay</td>\n",
              "      <td>Gold</td>\n",
              "    </tr>\n",
              "    <tr>\n",
              "      <th>PHELPS, Michael</th>\n",
              "      <td>2008</td>\n",
              "      <td>4X200M Freestyle Relay</td>\n",
              "      <td>Gold</td>\n",
              "    </tr>\n",
              "    <tr>\n",
              "      <th>PHELPS, Michael</th>\n",
              "      <td>2012</td>\n",
              "      <td>100M Butterfly</td>\n",
              "      <td>Gold</td>\n",
              "    </tr>\n",
              "    <tr>\n",
              "      <th>PHELPS, Michael</th>\n",
              "      <td>2012</td>\n",
              "      <td>200M Butterfly</td>\n",
              "      <td>Silver</td>\n",
              "    </tr>\n",
              "    <tr>\n",
              "      <th>PHELPS, Michael</th>\n",
              "      <td>2012</td>\n",
              "      <td>200M Medley</td>\n",
              "      <td>Gold</td>\n",
              "    </tr>\n",
              "    <tr>\n",
              "      <th>PHELPS, Michael</th>\n",
              "      <td>2012</td>\n",
              "      <td>4X100M Freestyle</td>\n",
              "      <td>Silver</td>\n",
              "    </tr>\n",
              "    <tr>\n",
              "      <th>PHELPS, Michael</th>\n",
              "      <td>2012</td>\n",
              "      <td>4X100M Medley</td>\n",
              "      <td>Gold</td>\n",
              "    </tr>\n",
              "    <tr>\n",
              "      <th>PHELPS, Michael</th>\n",
              "      <td>2012</td>\n",
              "      <td>4X200M Freestyle</td>\n",
              "      <td>Gold</td>\n",
              "    </tr>\n",
              "  </tbody>\n",
              "</table>\n",
              "</div>"
            ],
            "text/plain": [
              "                 Year                   Event   Medal\n",
              "Athlete                                              \n",
              "PHELPS, Michael  2004          100M Butterfly    Gold\n",
              "PHELPS, Michael  2004          200M Butterfly    Gold\n",
              "PHELPS, Michael  2004          200M Freestyle  Bronze\n",
              "PHELPS, Michael  2004  200M Individual Medley    Gold\n",
              "PHELPS, Michael  2004  400M Individual Medley    Gold\n",
              "PHELPS, Michael  2004  4X100M Freestyle Relay  Bronze\n",
              "PHELPS, Michael  2004     4X100M Medley Relay    Gold\n",
              "PHELPS, Michael  2004  4X200M Freestyle Relay    Gold\n",
              "PHELPS, Michael  2008          100M Butterfly    Gold\n",
              "PHELPS, Michael  2008          200M Butterfly    Gold\n",
              "PHELPS, Michael  2008          200M Freestyle    Gold\n",
              "PHELPS, Michael  2008  200M Individual Medley    Gold\n",
              "PHELPS, Michael  2008  400M Individual Medley    Gold\n",
              "PHELPS, Michael  2008  4X100M Freestyle Relay    Gold\n",
              "PHELPS, Michael  2008     4X100M Medley Relay    Gold\n",
              "PHELPS, Michael  2008  4X200M Freestyle Relay    Gold\n",
              "PHELPS, Michael  2012          100M Butterfly    Gold\n",
              "PHELPS, Michael  2012          200M Butterfly  Silver\n",
              "PHELPS, Michael  2012             200M Medley    Gold\n",
              "PHELPS, Michael  2012        4X100M Freestyle  Silver\n",
              "PHELPS, Michael  2012           4X100M Medley    Gold\n",
              "PHELPS, Michael  2012        4X200M Freestyle    Gold"
            ]
          },
          "metadata": {
            "tags": []
          },
          "execution_count": 19
        }
      ]
    },
    {
      "cell_type": "markdown",
      "metadata": {
        "id": "rA_T2IHiOITc",
        "colab_type": "text"
      },
      "source": [
        "### Outlook Pandas Objects"
      ]
    },
    {
      "cell_type": "code",
      "metadata": {
        "id": "rSWWSV2XN5hD",
        "colab_type": "code",
        "colab": {
          "base_uri": "https://localhost:8080/",
          "height": 759
        },
        "outputId": "38f984dd-fe44-4549-a7fc-8181fd599333"
      },
      "source": [
        "summer"
      ],
      "execution_count": null,
      "outputs": [
        {
          "output_type": "execute_result",
          "data": {
            "text/html": [
              "<div>\n",
              "<style scoped>\n",
              "    .dataframe tbody tr th:only-of-type {\n",
              "        vertical-align: middle;\n",
              "    }\n",
              "\n",
              "    .dataframe tbody tr th {\n",
              "        vertical-align: top;\n",
              "    }\n",
              "\n",
              "    .dataframe thead th {\n",
              "        text-align: right;\n",
              "    }\n",
              "</style>\n",
              "<table border=\"1\" class=\"dataframe\">\n",
              "  <thead>\n",
              "    <tr style=\"text-align: right;\">\n",
              "      <th></th>\n",
              "      <th>Year</th>\n",
              "      <th>City</th>\n",
              "      <th>Sport</th>\n",
              "      <th>Discipline</th>\n",
              "      <th>Country</th>\n",
              "      <th>Gender</th>\n",
              "      <th>Event</th>\n",
              "      <th>Medal</th>\n",
              "    </tr>\n",
              "    <tr>\n",
              "      <th>Athlete</th>\n",
              "      <th></th>\n",
              "      <th></th>\n",
              "      <th></th>\n",
              "      <th></th>\n",
              "      <th></th>\n",
              "      <th></th>\n",
              "      <th></th>\n",
              "      <th></th>\n",
              "    </tr>\n",
              "  </thead>\n",
              "  <tbody>\n",
              "    <tr>\n",
              "      <th>HAJOS, Alfred</th>\n",
              "      <td>1896</td>\n",
              "      <td>Athens</td>\n",
              "      <td>Aquatics</td>\n",
              "      <td>Swimming</td>\n",
              "      <td>HUN</td>\n",
              "      <td>Men</td>\n",
              "      <td>100M Freestyle</td>\n",
              "      <td>Gold</td>\n",
              "    </tr>\n",
              "    <tr>\n",
              "      <th>HERSCHMANN, Otto</th>\n",
              "      <td>1896</td>\n",
              "      <td>Athens</td>\n",
              "      <td>Aquatics</td>\n",
              "      <td>Swimming</td>\n",
              "      <td>AUT</td>\n",
              "      <td>Men</td>\n",
              "      <td>100M Freestyle</td>\n",
              "      <td>Silver</td>\n",
              "    </tr>\n",
              "    <tr>\n",
              "      <th>DRIVAS, Dimitrios</th>\n",
              "      <td>1896</td>\n",
              "      <td>Athens</td>\n",
              "      <td>Aquatics</td>\n",
              "      <td>Swimming</td>\n",
              "      <td>GRE</td>\n",
              "      <td>Men</td>\n",
              "      <td>100M Freestyle For Sailors</td>\n",
              "      <td>Bronze</td>\n",
              "    </tr>\n",
              "    <tr>\n",
              "      <th>MALOKINIS, Ioannis</th>\n",
              "      <td>1896</td>\n",
              "      <td>Athens</td>\n",
              "      <td>Aquatics</td>\n",
              "      <td>Swimming</td>\n",
              "      <td>GRE</td>\n",
              "      <td>Men</td>\n",
              "      <td>100M Freestyle For Sailors</td>\n",
              "      <td>Gold</td>\n",
              "    </tr>\n",
              "    <tr>\n",
              "      <th>CHASAPIS, Spiridon</th>\n",
              "      <td>1896</td>\n",
              "      <td>Athens</td>\n",
              "      <td>Aquatics</td>\n",
              "      <td>Swimming</td>\n",
              "      <td>GRE</td>\n",
              "      <td>Men</td>\n",
              "      <td>100M Freestyle For Sailors</td>\n",
              "      <td>Silver</td>\n",
              "    </tr>\n",
              "    <tr>\n",
              "      <th>...</th>\n",
              "      <td>...</td>\n",
              "      <td>...</td>\n",
              "      <td>...</td>\n",
              "      <td>...</td>\n",
              "      <td>...</td>\n",
              "      <td>...</td>\n",
              "      <td>...</td>\n",
              "      <td>...</td>\n",
              "    </tr>\n",
              "    <tr>\n",
              "      <th>JANIKOWSKI, Damian</th>\n",
              "      <td>2012</td>\n",
              "      <td>London</td>\n",
              "      <td>Wrestling</td>\n",
              "      <td>Wrestling Freestyle</td>\n",
              "      <td>POL</td>\n",
              "      <td>Men</td>\n",
              "      <td>Wg 84 KG</td>\n",
              "      <td>Bronze</td>\n",
              "    </tr>\n",
              "    <tr>\n",
              "      <th>REZAEI, Ghasem Gholamreza</th>\n",
              "      <td>2012</td>\n",
              "      <td>London</td>\n",
              "      <td>Wrestling</td>\n",
              "      <td>Wrestling Freestyle</td>\n",
              "      <td>IRI</td>\n",
              "      <td>Men</td>\n",
              "      <td>Wg 96 KG</td>\n",
              "      <td>Gold</td>\n",
              "    </tr>\n",
              "    <tr>\n",
              "      <th>TOTROV, Rustam</th>\n",
              "      <td>2012</td>\n",
              "      <td>London</td>\n",
              "      <td>Wrestling</td>\n",
              "      <td>Wrestling Freestyle</td>\n",
              "      <td>RUS</td>\n",
              "      <td>Men</td>\n",
              "      <td>Wg 96 KG</td>\n",
              "      <td>Silver</td>\n",
              "    </tr>\n",
              "    <tr>\n",
              "      <th>ALEKSANYAN, Artur</th>\n",
              "      <td>2012</td>\n",
              "      <td>London</td>\n",
              "      <td>Wrestling</td>\n",
              "      <td>Wrestling Freestyle</td>\n",
              "      <td>ARM</td>\n",
              "      <td>Men</td>\n",
              "      <td>Wg 96 KG</td>\n",
              "      <td>Bronze</td>\n",
              "    </tr>\n",
              "    <tr>\n",
              "      <th>LIDBERG, Jimmy</th>\n",
              "      <td>2012</td>\n",
              "      <td>London</td>\n",
              "      <td>Wrestling</td>\n",
              "      <td>Wrestling Freestyle</td>\n",
              "      <td>SWE</td>\n",
              "      <td>Men</td>\n",
              "      <td>Wg 96 KG</td>\n",
              "      <td>Bronze</td>\n",
              "    </tr>\n",
              "  </tbody>\n",
              "</table>\n",
              "<p>31165 rows × 8 columns</p>\n",
              "</div>"
            ],
            "text/plain": [
              "                           Year    City  ...                       Event   Medal\n",
              "Athlete                                  ...                                    \n",
              "HAJOS, Alfred              1896  Athens  ...              100M Freestyle    Gold\n",
              "HERSCHMANN, Otto           1896  Athens  ...              100M Freestyle  Silver\n",
              "DRIVAS, Dimitrios          1896  Athens  ...  100M Freestyle For Sailors  Bronze\n",
              "MALOKINIS, Ioannis         1896  Athens  ...  100M Freestyle For Sailors    Gold\n",
              "CHASAPIS, Spiridon         1896  Athens  ...  100M Freestyle For Sailors  Silver\n",
              "...                         ...     ...  ...                         ...     ...\n",
              "JANIKOWSKI, Damian         2012  London  ...                    Wg 84 KG  Bronze\n",
              "REZAEI, Ghasem Gholamreza  2012  London  ...                    Wg 96 KG    Gold\n",
              "TOTROV, Rustam             2012  London  ...                    Wg 96 KG  Silver\n",
              "ALEKSANYAN, Artur          2012  London  ...                    Wg 96 KG  Bronze\n",
              "LIDBERG, Jimmy             2012  London  ...                    Wg 96 KG  Bronze\n",
              "\n",
              "[31165 rows x 8 columns]"
            ]
          },
          "metadata": {
            "tags": []
          },
          "execution_count": 20
        }
      ]
    },
    {
      "cell_type": "code",
      "metadata": {
        "id": "dL1rxBLrONxu",
        "colab_type": "code",
        "colab": {
          "base_uri": "https://localhost:8080/",
          "height": 34
        },
        "outputId": "8de865e7-81e1-44d2-dc29-bcd2dd114425"
      },
      "source": [
        "type(summer)"
      ],
      "execution_count": null,
      "outputs": [
        {
          "output_type": "execute_result",
          "data": {
            "text/plain": [
              "pandas.core.frame.DataFrame"
            ]
          },
          "metadata": {
            "tags": []
          },
          "execution_count": 21
        }
      ]
    },
    {
      "cell_type": "code",
      "metadata": {
        "id": "NDzxQH2vOQkW",
        "colab_type": "code",
        "colab": {
          "base_uri": "https://localhost:8080/",
          "height": 238
        },
        "outputId": "0693a3b7-05f7-4186-d617-5c555aa4af07"
      },
      "source": [
        "summer['Year']"
      ],
      "execution_count": null,
      "outputs": [
        {
          "output_type": "execute_result",
          "data": {
            "text/plain": [
              "Athlete\n",
              "HAJOS, Alfred                1896\n",
              "HERSCHMANN, Otto             1896\n",
              "DRIVAS, Dimitrios            1896\n",
              "MALOKINIS, Ioannis           1896\n",
              "CHASAPIS, Spiridon           1896\n",
              "                             ... \n",
              "JANIKOWSKI, Damian           2012\n",
              "REZAEI, Ghasem Gholamreza    2012\n",
              "TOTROV, Rustam               2012\n",
              "ALEKSANYAN, Artur            2012\n",
              "LIDBERG, Jimmy               2012\n",
              "Name: Year, Length: 31165, dtype: int64"
            ]
          },
          "metadata": {
            "tags": []
          },
          "execution_count": 23
        }
      ]
    },
    {
      "cell_type": "code",
      "metadata": {
        "id": "xjaWYkfaOx6k",
        "colab_type": "code",
        "colab": {
          "base_uri": "https://localhost:8080/",
          "height": 34
        },
        "outputId": "d9ed1046-80f3-40ea-93d9-540453fba647"
      },
      "source": [
        "type(summer['Year'])"
      ],
      "execution_count": null,
      "outputs": [
        {
          "output_type": "execute_result",
          "data": {
            "text/plain": [
              "pandas.core.series.Series"
            ]
          },
          "metadata": {
            "tags": []
          },
          "execution_count": 24
        }
      ]
    },
    {
      "cell_type": "code",
      "metadata": {
        "id": "fv7HhMhPO3X4",
        "colab_type": "code",
        "colab": {
          "base_uri": "https://localhost:8080/",
          "height": 68
        },
        "outputId": "7b3c6c2a-33ab-4500-f292-1572844cab23"
      },
      "source": [
        "summer.columns"
      ],
      "execution_count": null,
      "outputs": [
        {
          "output_type": "execute_result",
          "data": {
            "text/plain": [
              "Index(['Year', 'City', 'Sport', 'Discipline', 'Country', 'Gender', 'Event',\n",
              "       'Medal'],\n",
              "      dtype='object')"
            ]
          },
          "metadata": {
            "tags": []
          },
          "execution_count": 25
        }
      ]
    },
    {
      "cell_type": "code",
      "metadata": {
        "id": "BKC2rr1vO-Ev",
        "colab_type": "code",
        "colab": {
          "base_uri": "https://localhost:8080/",
          "height": 34
        },
        "outputId": "c02fb290-ddb6-4a55-f37f-800677df38d3"
      },
      "source": [
        "type(summer.columns)"
      ],
      "execution_count": null,
      "outputs": [
        {
          "output_type": "execute_result",
          "data": {
            "text/plain": [
              "pandas.core.indexes.base.Index"
            ]
          },
          "metadata": {
            "tags": []
          },
          "execution_count": 26
        }
      ]
    },
    {
      "cell_type": "code",
      "metadata": {
        "id": "evk18-9OPBM9",
        "colab_type": "code",
        "colab": {
          "base_uri": "https://localhost:8080/",
          "height": 187
        },
        "outputId": "0b245f3c-1b64-42e7-c756-fa9244bc9073"
      },
      "source": [
        "summer.index"
      ],
      "execution_count": null,
      "outputs": [
        {
          "output_type": "execute_result",
          "data": {
            "text/plain": [
              "Index(['HAJOS, Alfred', 'HERSCHMANN, Otto', 'DRIVAS, Dimitrios',\n",
              "       'MALOKINIS, Ioannis', 'CHASAPIS, Spiridon', 'CHOROPHAS, Efstathios',\n",
              "       'HAJOS, Alfred', 'ANDREOU, Joannis', 'CHOROPHAS, Efstathios',\n",
              "       'NEUMANN, Paul',\n",
              "       ...\n",
              "       'AHMADOV, Emin', 'KAZAKEVIC, Aleksandr', 'KHUGAEV, Alan',\n",
              "       'EBRAHIM, Karam Mohamed Gaber', 'GAJIYEV, Danyal', 'JANIKOWSKI, Damian',\n",
              "       'REZAEI, Ghasem Gholamreza', 'TOTROV, Rustam', 'ALEKSANYAN, Artur',\n",
              "       'LIDBERG, Jimmy'],\n",
              "      dtype='object', name='Athlete', length=31165)"
            ]
          },
          "metadata": {
            "tags": []
          },
          "execution_count": 27
        }
      ]
    },
    {
      "cell_type": "code",
      "metadata": {
        "id": "kQUEBY5gPIob",
        "colab_type": "code",
        "colab": {
          "base_uri": "https://localhost:8080/",
          "height": 34
        },
        "outputId": "6228a308-7cb7-4e61-c8e8-3d57cf350e93"
      },
      "source": [
        "type(summer.index)"
      ],
      "execution_count": null,
      "outputs": [
        {
          "output_type": "execute_result",
          "data": {
            "text/plain": [
              "pandas.core.indexes.base.Index"
            ]
          },
          "metadata": {
            "tags": []
          },
          "execution_count": 28
        }
      ]
    },
    {
      "cell_type": "code",
      "metadata": {
        "id": "N_C-CbEMPNeq",
        "colab_type": "code",
        "colab": {}
      },
      "source": [
        ""
      ],
      "execution_count": null,
      "outputs": []
    }
  ]
}