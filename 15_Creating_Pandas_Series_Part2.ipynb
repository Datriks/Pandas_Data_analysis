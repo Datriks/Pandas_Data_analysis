{
  "nbformat": 4,
  "nbformat_minor": 0,
  "metadata": {
    "colab": {
      "name": "15.Creating Pandas Series-Part2.ipynb",
      "provenance": [],
      "authorship_tag": "ABX9TyMqZMy4IrtAXQ3YDLyRyRFZ",
      "include_colab_link": true
    },
    "kernelspec": {
      "name": "python3",
      "display_name": "Python 3"
    }
  },
  "cells": [
    {
      "cell_type": "markdown",
      "metadata": {
        "id": "view-in-github",
        "colab_type": "text"
      },
      "source": [
        "<a href=\"https://colab.research.google.com/github/Datriks/Pandas_Data_analysis/blob/master/15_Creating_Pandas_Series_Part2.ipynb\" target=\"_parent\"><img src=\"https://colab.research.google.com/assets/colab-badge.svg\" alt=\"Open In Colab\"/></a>"
      ]
    },
    {
      "cell_type": "markdown",
      "metadata": {
        "id": "m5lbAxR-Y8GS",
        "colab_type": "text"
      },
      "source": [
        "### from numpy array"
      ]
    },
    {
      "cell_type": "code",
      "metadata": {
        "id": "63jue62VZBCD",
        "colab_type": "code",
        "colab": {}
      },
      "source": [
        "import numpy as np\n",
        "import pandas as pd"
      ],
      "execution_count": 3,
      "outputs": []
    },
    {
      "cell_type": "code",
      "metadata": {
        "id": "uxVwO81FZMIe",
        "colab_type": "code",
        "colab": {
          "base_uri": "https://localhost:8080/",
          "height": 34
        },
        "outputId": "93a88390-01da-45a8-bce0-a12377ee4ec8"
      },
      "source": [
        "sales = np.array([10,25,6,36,2])\n",
        "sales"
      ],
      "execution_count": 2,
      "outputs": [
        {
          "output_type": "execute_result",
          "data": {
            "text/plain": [
              "array([10, 25,  6, 36,  2])"
            ]
          },
          "metadata": {
            "tags": []
          },
          "execution_count": 2
        }
      ]
    },
    {
      "cell_type": "code",
      "metadata": {
        "id": "_q-CoGAgZU6Z",
        "colab_type": "code",
        "colab": {
          "base_uri": "https://localhost:8080/",
          "height": 119
        },
        "outputId": "7570ae2c-09e1-450a-ab75-069e7c619a94"
      },
      "source": [
        "pd.Series(sales)"
      ],
      "execution_count": 4,
      "outputs": [
        {
          "output_type": "execute_result",
          "data": {
            "text/plain": [
              "0    10\n",
              "1    25\n",
              "2     6\n",
              "3    36\n",
              "4     2\n",
              "dtype: int64"
            ]
          },
          "metadata": {
            "tags": []
          },
          "execution_count": 4
        }
      ]
    },
    {
      "cell_type": "code",
      "metadata": {
        "id": "weeRYWTuZdND",
        "colab_type": "code",
        "colab": {}
      },
      "source": [
        "# from list\n",
        "sales = [10,25,6,36,2]"
      ],
      "execution_count": 5,
      "outputs": []
    },
    {
      "cell_type": "code",
      "metadata": {
        "id": "F6ogMnlUZvxS",
        "colab_type": "code",
        "colab": {
          "base_uri": "https://localhost:8080/",
          "height": 119
        },
        "outputId": "86da041e-2df2-4b3f-b19e-beaa0858b733"
      },
      "source": [
        "pd.Series(sales)"
      ],
      "execution_count": 6,
      "outputs": [
        {
          "output_type": "execute_result",
          "data": {
            "text/plain": [
              "0    10\n",
              "1    25\n",
              "2     6\n",
              "3    36\n",
              "4     2\n",
              "dtype: int64"
            ]
          },
          "metadata": {
            "tags": []
          },
          "execution_count": 6
        }
      ]
    },
    {
      "cell_type": "code",
      "metadata": {
        "id": "2sIbWlJbZzEa",
        "colab_type": "code",
        "colab": {
          "base_uri": "https://localhost:8080/",
          "height": 34
        },
        "outputId": "296bf47e-bc9a-4c64-ef69-ef72d1943a8f"
      },
      "source": [
        "# from dictionary\n",
        "dic = {'Mon':10,'Tue':25,'Wed':6,'Thu':36,'Fri':2}\n",
        "dic"
      ],
      "execution_count": 17,
      "outputs": [
        {
          "output_type": "execute_result",
          "data": {
            "text/plain": [
              "{'Fri': 2, 'Mon': 10, 'Thu': 36, 'Tue': 25, 'Wed': 6}"
            ]
          },
          "metadata": {
            "tags": []
          },
          "execution_count": 17
        }
      ]
    },
    {
      "cell_type": "code",
      "metadata": {
        "id": "SO8Yi24aaGdh",
        "colab_type": "code",
        "colab": {
          "base_uri": "https://localhost:8080/",
          "height": 119
        },
        "outputId": "72fd0de7-eaf7-457f-c663-69b04649dae7"
      },
      "source": [
        "sales = pd.Series(dic)\n",
        "sales"
      ],
      "execution_count": 18,
      "outputs": [
        {
          "output_type": "execute_result",
          "data": {
            "text/plain": [
              "Mon    10\n",
              "Tue    25\n",
              "Wed     6\n",
              "Thu    36\n",
              "Fri     2\n",
              "dtype: int64"
            ]
          },
          "metadata": {
            "tags": []
          },
          "execution_count": 18
        }
      ]
    },
    {
      "cell_type": "code",
      "metadata": {
        "id": "91A_LvjyaJfw",
        "colab_type": "code",
        "colab": {
          "base_uri": "https://localhost:8080/",
          "height": 119
        },
        "outputId": "54ffcbda-7a97-4a7d-9651-5cf9429b2c73"
      },
      "source": [
        "pd.Series(dic, index=['Mon','tue','Wed','thu','fri'])"
      ],
      "execution_count": 21,
      "outputs": [
        {
          "output_type": "execute_result",
          "data": {
            "text/plain": [
              "Mon    10.0\n",
              "tue     NaN\n",
              "Wed     6.0\n",
              "thu     NaN\n",
              "fri     NaN\n",
              "dtype: float64"
            ]
          },
          "metadata": {
            "tags": []
          },
          "execution_count": 21
        }
      ]
    },
    {
      "cell_type": "code",
      "metadata": {
        "id": "yD9blM7qbBkX",
        "colab_type": "code",
        "colab": {
          "base_uri": "https://localhost:8080/",
          "height": 119
        },
        "outputId": "b06797e4-d57d-4ecd-e971-7a140781d79a"
      },
      "source": [
        "pd.Series(dic, index=[1,2,3,4,5])"
      ],
      "execution_count": 22,
      "outputs": [
        {
          "output_type": "execute_result",
          "data": {
            "text/plain": [
              "1   NaN\n",
              "2   NaN\n",
              "3   NaN\n",
              "4   NaN\n",
              "5   NaN\n",
              "dtype: float64"
            ]
          },
          "metadata": {
            "tags": []
          },
          "execution_count": 22
        }
      ]
    },
    {
      "cell_type": "code",
      "metadata": {
        "id": "yhh_BrylbWvO",
        "colab_type": "code",
        "colab": {}
      },
      "source": [
        ""
      ],
      "execution_count": null,
      "outputs": []
    }
  ]
}