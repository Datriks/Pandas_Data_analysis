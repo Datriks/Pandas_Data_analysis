{
  "nbformat": 4,
  "nbformat_minor": 0,
  "metadata": {
    "colab": {
      "name": "17_Sorting Series and Introduction to the inplace-parameter.ipynb",
      "provenance": [],
      "authorship_tag": "ABX9TyPzy+arohDEZJtq4CuuPp3V",
      "include_colab_link": true
    },
    "kernelspec": {
      "name": "python3",
      "display_name": "Python 3"
    }
  },
  "cells": [
    {
      "cell_type": "markdown",
      "metadata": {
        "id": "view-in-github",
        "colab_type": "text"
      },
      "source": [
        "<a href=\"https://colab.research.google.com/github/Datriks/Pandas_Data_analysis/blob/master/17_Sorting_Series_and_Introduction_to_the_inplace_parameter.ipynb\" target=\"_parent\"><img src=\"https://colab.research.google.com/assets/colab-badge.svg\" alt=\"Open In Colab\"/></a>"
      ]
    },
    {
      "cell_type": "code",
      "metadata": {
        "id": "Zbz_tO_h_aM_",
        "colab_type": "code",
        "colab": {}
      },
      "source": [
        "import pandas as pd"
      ],
      "execution_count": 1,
      "outputs": []
    },
    {
      "cell_type": "code",
      "metadata": {
        "id": "jzpX1jxLDHvp",
        "colab_type": "code",
        "colab": {}
      },
      "source": [
        "dic = {1:10,5:25,2:6,4:36,5:2,6:0,7:None}"
      ],
      "execution_count": 2,
      "outputs": []
    },
    {
      "cell_type": "code",
      "metadata": {
        "id": "XR9m4vmXDZwW",
        "colab_type": "code",
        "colab": {
          "base_uri": "https://localhost:8080/",
          "height": 136
        },
        "outputId": "27819a7a-eaf9-4131-db01-96779bd634ec"
      },
      "source": [
        "sales = pd.Series(dic)\n",
        "sales"
      ],
      "execution_count": 4,
      "outputs": [
        {
          "output_type": "execute_result",
          "data": {
            "text/plain": [
              "1    10.0\n",
              "5     2.0\n",
              "2     6.0\n",
              "4    36.0\n",
              "6     0.0\n",
              "7     NaN\n",
              "dtype: float64"
            ]
          },
          "metadata": {
            "tags": []
          },
          "execution_count": 4
        }
      ]
    },
    {
      "cell_type": "code",
      "metadata": {
        "id": "gPzcmMkuDdXb",
        "colab_type": "code",
        "colab": {
          "base_uri": "https://localhost:8080/",
          "height": 136
        },
        "outputId": "1e3056da-3753-434d-daa0-d4f89ac2825f"
      },
      "source": [
        "sales.sort_index()"
      ],
      "execution_count": 5,
      "outputs": [
        {
          "output_type": "execute_result",
          "data": {
            "text/plain": [
              "1    10.0\n",
              "2     6.0\n",
              "4    36.0\n",
              "5     2.0\n",
              "6     0.0\n",
              "7     NaN\n",
              "dtype: float64"
            ]
          },
          "metadata": {
            "tags": []
          },
          "execution_count": 5
        }
      ]
    },
    {
      "cell_type": "code",
      "metadata": {
        "id": "2ExSXUM0Dn-h",
        "colab_type": "code",
        "colab": {
          "base_uri": "https://localhost:8080/",
          "height": 136
        },
        "outputId": "7f1fa31b-e998-4e59-d86e-1c8544581c2a"
      },
      "source": [
        "sales.sort_index(ascending=True)"
      ],
      "execution_count": 6,
      "outputs": [
        {
          "output_type": "execute_result",
          "data": {
            "text/plain": [
              "1    10.0\n",
              "2     6.0\n",
              "4    36.0\n",
              "5     2.0\n",
              "6     0.0\n",
              "7     NaN\n",
              "dtype: float64"
            ]
          },
          "metadata": {
            "tags": []
          },
          "execution_count": 6
        }
      ]
    },
    {
      "cell_type": "code",
      "metadata": {
        "id": "Yk12jXonD2WX",
        "colab_type": "code",
        "colab": {
          "base_uri": "https://localhost:8080/",
          "height": 136
        },
        "outputId": "853d161e-20a8-4d52-db30-1d91f38351da"
      },
      "source": [
        "sales.sort_values()"
      ],
      "execution_count": 7,
      "outputs": [
        {
          "output_type": "execute_result",
          "data": {
            "text/plain": [
              "6     0.0\n",
              "5     2.0\n",
              "2     6.0\n",
              "1    10.0\n",
              "4    36.0\n",
              "7     NaN\n",
              "dtype: float64"
            ]
          },
          "metadata": {
            "tags": []
          },
          "execution_count": 7
        }
      ]
    },
    {
      "cell_type": "code",
      "metadata": {
        "id": "yHGpFm3bD8Ka",
        "colab_type": "code",
        "colab": {
          "base_uri": "https://localhost:8080/",
          "height": 136
        },
        "outputId": "a2c408a2-bdc8-4c39-a78d-8bbd16aef7db"
      },
      "source": [
        "sales.sort_values(ascending=False,na_position='last',inplace=False)"
      ],
      "execution_count": 8,
      "outputs": [
        {
          "output_type": "execute_result",
          "data": {
            "text/plain": [
              "4    36.0\n",
              "1    10.0\n",
              "2     6.0\n",
              "5     2.0\n",
              "6     0.0\n",
              "7     NaN\n",
              "dtype: float64"
            ]
          },
          "metadata": {
            "tags": []
          },
          "execution_count": 8
        }
      ]
    },
    {
      "cell_type": "code",
      "metadata": {
        "id": "hma8ZuGhEcEt",
        "colab_type": "code",
        "colab": {}
      },
      "source": [
        "dic = {'Mon':10,'Tue':25,'Wed':6,'Thu':36,'Fri':2}"
      ],
      "execution_count": 12,
      "outputs": []
    },
    {
      "cell_type": "code",
      "metadata": {
        "id": "Z8H8Wa9BFb0x",
        "colab_type": "code",
        "colab": {}
      },
      "source": [
        "sales = pd.Series(dic)"
      ],
      "execution_count": 13,
      "outputs": []
    },
    {
      "cell_type": "code",
      "metadata": {
        "id": "1DWtK5HuFf3A",
        "colab_type": "code",
        "colab": {
          "base_uri": "https://localhost:8080/",
          "height": 119
        },
        "outputId": "1d205aee-386a-4e5c-f7a0-d83b5036b6a8"
      },
      "source": [
        "sales"
      ],
      "execution_count": 14,
      "outputs": [
        {
          "output_type": "execute_result",
          "data": {
            "text/plain": [
              "Mon    10\n",
              "Tue    25\n",
              "Wed     6\n",
              "Thu    36\n",
              "Fri     2\n",
              "dtype: int64"
            ]
          },
          "metadata": {
            "tags": []
          },
          "execution_count": 14
        }
      ]
    },
    {
      "cell_type": "code",
      "metadata": {
        "id": "_7UrnfZ5FhFH",
        "colab_type": "code",
        "colab": {}
      },
      "source": [
        "sales.sort_values(ascending=True,inplace=True)"
      ],
      "execution_count": 17,
      "outputs": []
    },
    {
      "cell_type": "code",
      "metadata": {
        "id": "Xc2EGuKNGS6d",
        "colab_type": "code",
        "colab": {
          "base_uri": "https://localhost:8080/",
          "height": 119
        },
        "outputId": "927c3148-37ea-47e8-e7be-f686e27b8f0e"
      },
      "source": [
        "sales"
      ],
      "execution_count": 18,
      "outputs": [
        {
          "output_type": "execute_result",
          "data": {
            "text/plain": [
              "Fri     2\n",
              "Wed     6\n",
              "Mon    10\n",
              "Tue    25\n",
              "Thu    36\n",
              "dtype: int64"
            ]
          },
          "metadata": {
            "tags": []
          },
          "execution_count": 18
        }
      ]
    },
    {
      "cell_type": "code",
      "metadata": {
        "id": "CJZs79cVGVEl",
        "colab_type": "code",
        "colab": {}
      },
      "source": [
        "sales.sort_index(ascending=True,inplace=True)"
      ],
      "execution_count": 23,
      "outputs": []
    },
    {
      "cell_type": "code",
      "metadata": {
        "id": "AvXS3yq_GgCl",
        "colab_type": "code",
        "colab": {
          "base_uri": "https://localhost:8080/",
          "height": 119
        },
        "outputId": "4540293b-066b-4811-a0e0-7b384254deff"
      },
      "source": [
        "sales"
      ],
      "execution_count": 24,
      "outputs": [
        {
          "output_type": "execute_result",
          "data": {
            "text/plain": [
              "Fri     2\n",
              "Mon    10\n",
              "Thu    36\n",
              "Tue    25\n",
              "Wed     6\n",
              "dtype: int64"
            ]
          },
          "metadata": {
            "tags": []
          },
          "execution_count": 24
        }
      ]
    },
    {
      "cell_type": "code",
      "metadata": {
        "id": "X3VochrwGhXW",
        "colab_type": "code",
        "colab": {}
      },
      "source": [
        ""
      ],
      "execution_count": null,
      "outputs": []
    }
  ]
}