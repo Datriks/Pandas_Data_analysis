{
  "nbformat": 4,
  "nbformat_minor": 0,
  "metadata": {
    "colab": {
      "name": "16_Indexing and Slicing Pandas Series.ipynb",
      "provenance": [],
      "collapsed_sections": [],
      "authorship_tag": "ABX9TyNVD3SXeJsXms1R/vegrmJw",
      "include_colab_link": true
    },
    "kernelspec": {
      "name": "python3",
      "display_name": "Python 3"
    }
  },
  "cells": [
    {
      "cell_type": "markdown",
      "metadata": {
        "id": "view-in-github",
        "colab_type": "text"
      },
      "source": [
        "<a href=\"https://colab.research.google.com/github/Datriks/Pandas_Data_analysis/blob/master/16_Indexing_and_Slicing_Pandas_Series.ipynb\" target=\"_parent\"><img src=\"https://colab.research.google.com/assets/colab-badge.svg\" alt=\"Open In Colab\"/></a>"
      ]
    },
    {
      "cell_type": "code",
      "metadata": {
        "id": "pVmo2Ll3cYiO",
        "colab_type": "code",
        "colab": {}
      },
      "source": [
        "import pandas as pd"
      ],
      "execution_count": null,
      "outputs": []
    },
    {
      "cell_type": "code",
      "metadata": {
        "id": "t8DN4fZHeNZ8",
        "colab_type": "code",
        "colab": {}
      },
      "source": [
        "titanic = pd.read_csv('titanic.csv')"
      ],
      "execution_count": null,
      "outputs": []
    },
    {
      "cell_type": "code",
      "metadata": {
        "id": "hhTm8cUZeV-W",
        "colab_type": "code",
        "colab": {}
      },
      "source": [
        "age = titanic['age']"
      ],
      "execution_count": null,
      "outputs": []
    },
    {
      "cell_type": "code",
      "metadata": {
        "id": "VuXISeeN7Y9c",
        "colab_type": "code",
        "colab": {
          "base_uri": "https://localhost:8080/",
          "height": 119
        },
        "outputId": "ba971926-4fce-4949-be91-c8f7d6f87d15"
      },
      "source": [
        "age.head()"
      ],
      "execution_count": null,
      "outputs": [
        {
          "output_type": "execute_result",
          "data": {
            "text/plain": [
              "0    22.0\n",
              "1    38.0\n",
              "2    26.0\n",
              "3    35.0\n",
              "4    35.0\n",
              "Name: age, dtype: float64"
            ]
          },
          "metadata": {
            "tags": []
          },
          "execution_count": 4
        }
      ]
    },
    {
      "cell_type": "code",
      "metadata": {
        "id": "fccu-kXo7a1O",
        "colab_type": "code",
        "colab": {
          "base_uri": "https://localhost:8080/",
          "height": 119
        },
        "outputId": "a5838ebb-40fe-4806-8ac5-80205aeda2d2"
      },
      "source": [
        "age.tail()"
      ],
      "execution_count": null,
      "outputs": [
        {
          "output_type": "execute_result",
          "data": {
            "text/plain": [
              "886    27.0\n",
              "887    19.0\n",
              "888     NaN\n",
              "889    26.0\n",
              "890    32.0\n",
              "Name: age, dtype: float64"
            ]
          },
          "metadata": {
            "tags": []
          },
          "execution_count": 6
        }
      ]
    },
    {
      "cell_type": "code",
      "metadata": {
        "id": "eb3LrGSi7ebX",
        "colab_type": "code",
        "colab": {
          "base_uri": "https://localhost:8080/",
          "height": 34
        },
        "outputId": "a07651b8-cbc7-45f0-f989-7d8a943df407"
      },
      "source": [
        "age.index"
      ],
      "execution_count": null,
      "outputs": [
        {
          "output_type": "execute_result",
          "data": {
            "text/plain": [
              "RangeIndex(start=0, stop=891, step=1)"
            ]
          },
          "metadata": {
            "tags": []
          },
          "execution_count": 7
        }
      ]
    },
    {
      "cell_type": "code",
      "metadata": {
        "id": "Id-3ETw_7j0r",
        "colab_type": "code",
        "colab": {
          "base_uri": "https://localhost:8080/",
          "height": 34
        },
        "outputId": "de3868da-c85a-4e82-e92a-38e709f8ed27"
      },
      "source": [
        "age[0]"
      ],
      "execution_count": null,
      "outputs": [
        {
          "output_type": "execute_result",
          "data": {
            "text/plain": [
              "22.0"
            ]
          },
          "metadata": {
            "tags": []
          },
          "execution_count": 8
        }
      ]
    },
    {
      "cell_type": "code",
      "metadata": {
        "id": "NfFcTnfO7m58",
        "colab_type": "code",
        "colab": {
          "base_uri": "https://localhost:8080/",
          "height": 34
        },
        "outputId": "f5beb1b7-ae03-481b-f72a-499481df0209"
      },
      "source": [
        "age[2]"
      ],
      "execution_count": null,
      "outputs": [
        {
          "output_type": "execute_result",
          "data": {
            "text/plain": [
              "26.0"
            ]
          },
          "metadata": {
            "tags": []
          },
          "execution_count": 9
        }
      ]
    },
    {
      "cell_type": "code",
      "metadata": {
        "id": "W1ZghGDt7pGv",
        "colab_type": "code",
        "colab": {
          "base_uri": "https://localhost:8080/",
          "height": 34
        },
        "outputId": "b5338b33-c799-46c0-c174-4826e6c5b54d"
      },
      "source": [
        "age.iloc[-1]"
      ],
      "execution_count": null,
      "outputs": [
        {
          "output_type": "execute_result",
          "data": {
            "text/plain": [
              "32.0"
            ]
          },
          "metadata": {
            "tags": []
          },
          "execution_count": 10
        }
      ]
    },
    {
      "cell_type": "code",
      "metadata": {
        "id": "gPLug5bE7rxt",
        "colab_type": "code",
        "colab": {
          "base_uri": "https://localhost:8080/",
          "height": 34
        },
        "outputId": "e8c8773a-8e90-4d4b-f1ef-21de1a5fb9ec"
      },
      "source": [
        "age[890]"
      ],
      "execution_count": null,
      "outputs": [
        {
          "output_type": "execute_result",
          "data": {
            "text/plain": [
              "32.0"
            ]
          },
          "metadata": {
            "tags": []
          },
          "execution_count": 11
        }
      ]
    },
    {
      "cell_type": "code",
      "metadata": {
        "id": "Ek4Ajy847t_z",
        "colab_type": "code",
        "colab": {
          "base_uri": "https://localhost:8080/",
          "height": 102
        },
        "outputId": "973930f1-0e61-4a9f-ad1f-504c46d6e51b"
      },
      "source": [
        "age.loc[:3]"
      ],
      "execution_count": null,
      "outputs": [
        {
          "output_type": "execute_result",
          "data": {
            "text/plain": [
              "0    22.0\n",
              "1    38.0\n",
              "2    26.0\n",
              "3    35.0\n",
              "Name: age, dtype: float64"
            ]
          },
          "metadata": {
            "tags": []
          },
          "execution_count": 17
        }
      ]
    },
    {
      "cell_type": "code",
      "metadata": {
        "id": "sB-gvlgY7xcr",
        "colab_type": "code",
        "colab": {
          "base_uri": "https://localhost:8080/",
          "height": 68
        },
        "outputId": "e23a7728-51e1-4dc7-c203-2c49e31b95f5"
      },
      "source": [
        "age[[3,4]]"
      ],
      "execution_count": null,
      "outputs": [
        {
          "output_type": "execute_result",
          "data": {
            "text/plain": [
              "3    35.0\n",
              "4    35.0\n",
              "Name: age, dtype: float64"
            ]
          },
          "metadata": {
            "tags": []
          },
          "execution_count": 13
        }
      ]
    },
    {
      "cell_type": "code",
      "metadata": {
        "id": "giQQrUL075yj",
        "colab_type": "code",
        "colab": {}
      },
      "source": [
        "summer = pd.read_csv('summer.csv', index_col='Athlete')"
      ],
      "execution_count": null,
      "outputs": []
    },
    {
      "cell_type": "code",
      "metadata": {
        "id": "ALLLdpgD8eB2",
        "colab_type": "code",
        "colab": {
          "base_uri": "https://localhost:8080/",
          "height": 442
        },
        "outputId": "e6e0fe46-923d-43f3-d902-02045feb9eb8"
      },
      "source": [
        "summer.head()"
      ],
      "execution_count": null,
      "outputs": [
        {
          "output_type": "execute_result",
          "data": {
            "text/html": [
              "<div>\n",
              "<style scoped>\n",
              "    .dataframe tbody tr th:only-of-type {\n",
              "        vertical-align: middle;\n",
              "    }\n",
              "\n",
              "    .dataframe tbody tr th {\n",
              "        vertical-align: top;\n",
              "    }\n",
              "\n",
              "    .dataframe thead th {\n",
              "        text-align: right;\n",
              "    }\n",
              "</style>\n",
              "<table border=\"1\" class=\"dataframe\">\n",
              "  <thead>\n",
              "    <tr style=\"text-align: right;\">\n",
              "      <th></th>\n",
              "      <th>Year</th>\n",
              "      <th>City</th>\n",
              "      <th>Sport</th>\n",
              "      <th>Discipline</th>\n",
              "      <th>Country</th>\n",
              "      <th>Gender</th>\n",
              "      <th>Event</th>\n",
              "      <th>Medal</th>\n",
              "    </tr>\n",
              "    <tr>\n",
              "      <th>Athlete</th>\n",
              "      <th></th>\n",
              "      <th></th>\n",
              "      <th></th>\n",
              "      <th></th>\n",
              "      <th></th>\n",
              "      <th></th>\n",
              "      <th></th>\n",
              "      <th></th>\n",
              "    </tr>\n",
              "  </thead>\n",
              "  <tbody>\n",
              "    <tr>\n",
              "      <th>HAJOS, Alfred</th>\n",
              "      <td>1896</td>\n",
              "      <td>Athens</td>\n",
              "      <td>Aquatics</td>\n",
              "      <td>Swimming</td>\n",
              "      <td>HUN</td>\n",
              "      <td>Men</td>\n",
              "      <td>100M Freestyle</td>\n",
              "      <td>Gold</td>\n",
              "    </tr>\n",
              "    <tr>\n",
              "      <th>HERSCHMANN, Otto</th>\n",
              "      <td>1896</td>\n",
              "      <td>Athens</td>\n",
              "      <td>Aquatics</td>\n",
              "      <td>Swimming</td>\n",
              "      <td>AUT</td>\n",
              "      <td>Men</td>\n",
              "      <td>100M Freestyle</td>\n",
              "      <td>Silver</td>\n",
              "    </tr>\n",
              "    <tr>\n",
              "      <th>DRIVAS, Dimitrios</th>\n",
              "      <td>1896</td>\n",
              "      <td>Athens</td>\n",
              "      <td>Aquatics</td>\n",
              "      <td>Swimming</td>\n",
              "      <td>GRE</td>\n",
              "      <td>Men</td>\n",
              "      <td>100M Freestyle For Sailors</td>\n",
              "      <td>Bronze</td>\n",
              "    </tr>\n",
              "    <tr>\n",
              "      <th>MALOKINIS, Ioannis</th>\n",
              "      <td>1896</td>\n",
              "      <td>Athens</td>\n",
              "      <td>Aquatics</td>\n",
              "      <td>Swimming</td>\n",
              "      <td>GRE</td>\n",
              "      <td>Men</td>\n",
              "      <td>100M Freestyle For Sailors</td>\n",
              "      <td>Gold</td>\n",
              "    </tr>\n",
              "    <tr>\n",
              "      <th>CHASAPIS, Spiridon</th>\n",
              "      <td>1896</td>\n",
              "      <td>Athens</td>\n",
              "      <td>Aquatics</td>\n",
              "      <td>Swimming</td>\n",
              "      <td>GRE</td>\n",
              "      <td>Men</td>\n",
              "      <td>100M Freestyle For Sailors</td>\n",
              "      <td>Silver</td>\n",
              "    </tr>\n",
              "  </tbody>\n",
              "</table>\n",
              "</div>"
            ],
            "text/plain": [
              "                    Year    City  ...                       Event   Medal\n",
              "Athlete                           ...                                    \n",
              "HAJOS, Alfred       1896  Athens  ...              100M Freestyle    Gold\n",
              "HERSCHMANN, Otto    1896  Athens  ...              100M Freestyle  Silver\n",
              "DRIVAS, Dimitrios   1896  Athens  ...  100M Freestyle For Sailors  Bronze\n",
              "MALOKINIS, Ioannis  1896  Athens  ...  100M Freestyle For Sailors    Gold\n",
              "CHASAPIS, Spiridon  1896  Athens  ...  100M Freestyle For Sailors  Silver\n",
              "\n",
              "[5 rows x 8 columns]"
            ]
          },
          "metadata": {
            "tags": []
          },
          "execution_count": 16
        }
      ]
    },
    {
      "cell_type": "code",
      "metadata": {
        "id": "8nI8xY7N8uGL",
        "colab_type": "code",
        "colab": {}
      },
      "source": [
        "event = summer.Event"
      ],
      "execution_count": null,
      "outputs": []
    },
    {
      "cell_type": "code",
      "metadata": {
        "id": "6O5hvWDX9CSp",
        "colab_type": "code",
        "colab": {
          "base_uri": "https://localhost:8080/",
          "height": 136
        },
        "outputId": "b237db9c-ae65-471f-e96e-bac319eb8e2e"
      },
      "source": [
        "event.tail()"
      ],
      "execution_count": null,
      "outputs": [
        {
          "output_type": "execute_result",
          "data": {
            "text/plain": [
              "Athlete\n",
              "JANIKOWSKI, Damian           Wg 84 KG\n",
              "REZAEI, Ghasem Gholamreza    Wg 96 KG\n",
              "TOTROV, Rustam               Wg 96 KG\n",
              "ALEKSANYAN, Artur            Wg 96 KG\n",
              "LIDBERG, Jimmy               Wg 96 KG\n",
              "Name: Event, dtype: object"
            ]
          },
          "metadata": {
            "tags": []
          },
          "execution_count": 19
        }
      ]
    },
    {
      "cell_type": "code",
      "metadata": {
        "id": "nh7IzbxZ9EUm",
        "colab_type": "code",
        "colab": {
          "base_uri": "https://localhost:8080/",
          "height": 187
        },
        "outputId": "53fc7b63-8076-4676-f1a2-9faea18848b3"
      },
      "source": [
        "event.index"
      ],
      "execution_count": null,
      "outputs": [
        {
          "output_type": "execute_result",
          "data": {
            "text/plain": [
              "Index(['HAJOS, Alfred', 'HERSCHMANN, Otto', 'DRIVAS, Dimitrios',\n",
              "       'MALOKINIS, Ioannis', 'CHASAPIS, Spiridon', 'CHOROPHAS, Efstathios',\n",
              "       'HAJOS, Alfred', 'ANDREOU, Joannis', 'CHOROPHAS, Efstathios',\n",
              "       'NEUMANN, Paul',\n",
              "       ...\n",
              "       'AHMADOV, Emin', 'KAZAKEVIC, Aleksandr', 'KHUGAEV, Alan',\n",
              "       'EBRAHIM, Karam Mohamed Gaber', 'GAJIYEV, Danyal', 'JANIKOWSKI, Damian',\n",
              "       'REZAEI, Ghasem Gholamreza', 'TOTROV, Rustam', 'ALEKSANYAN, Artur',\n",
              "       'LIDBERG, Jimmy'],\n",
              "      dtype='object', name='Athlete', length=31165)"
            ]
          },
          "metadata": {
            "tags": []
          },
          "execution_count": 20
        }
      ]
    },
    {
      "cell_type": "code",
      "metadata": {
        "id": "ututgI4Z9HWk",
        "colab_type": "code",
        "colab": {
          "base_uri": "https://localhost:8080/",
          "height": 35
        },
        "outputId": "7a9b5506-d4d0-4bf5-c979-2213bf44ffa3"
      },
      "source": [
        "event[0]"
      ],
      "execution_count": null,
      "outputs": [
        {
          "output_type": "execute_result",
          "data": {
            "application/vnd.google.colaboratory.intrinsic": {
              "type": "string"
            },
            "text/plain": [
              "'100M Freestyle'"
            ]
          },
          "metadata": {
            "tags": []
          },
          "execution_count": 21
        }
      ]
    },
    {
      "cell_type": "code",
      "metadata": {
        "id": "Id-AH2JA9Jzu",
        "colab_type": "code",
        "colab": {
          "base_uri": "https://localhost:8080/",
          "height": 35
        },
        "outputId": "34fbaef6-f4cc-4cc8-fa9f-58177b7d7792"
      },
      "source": [
        "event[1]"
      ],
      "execution_count": null,
      "outputs": [
        {
          "output_type": "execute_result",
          "data": {
            "application/vnd.google.colaboratory.intrinsic": {
              "type": "string"
            },
            "text/plain": [
              "'100M Freestyle'"
            ]
          },
          "metadata": {
            "tags": []
          },
          "execution_count": 22
        }
      ]
    },
    {
      "cell_type": "code",
      "metadata": {
        "id": "WbqqAuCX9LMD",
        "colab_type": "code",
        "colab": {
          "base_uri": "https://localhost:8080/",
          "height": 35
        },
        "outputId": "55c6dd2a-9195-415a-8fa7-401b1b6734dd"
      },
      "source": [
        "event[-1]"
      ],
      "execution_count": null,
      "outputs": [
        {
          "output_type": "execute_result",
          "data": {
            "application/vnd.google.colaboratory.intrinsic": {
              "type": "string"
            },
            "text/plain": [
              "'Wg 96 KG'"
            ]
          },
          "metadata": {
            "tags": []
          },
          "execution_count": 23
        }
      ]
    },
    {
      "cell_type": "code",
      "metadata": {
        "id": "838PRRra9ONn",
        "colab_type": "code",
        "colab": {
          "base_uri": "https://localhost:8080/",
          "height": 35
        },
        "outputId": "79be0895-2197-4106-b251-eb4f9dc2313a"
      },
      "source": [
        "event['DRIVAS, Dimitrios']"
      ],
      "execution_count": null,
      "outputs": [
        {
          "output_type": "execute_result",
          "data": {
            "application/vnd.google.colaboratory.intrinsic": {
              "type": "string"
            },
            "text/plain": [
              "'100M Freestyle For Sailors'"
            ]
          },
          "metadata": {
            "tags": []
          },
          "execution_count": 24
        }
      ]
    },
    {
      "cell_type": "code",
      "metadata": {
        "id": "fNcjsFb59Vxi",
        "colab_type": "code",
        "colab": {
          "base_uri": "https://localhost:8080/",
          "height": 327
        },
        "outputId": "dfc35e06-9a98-4f2f-def1-beb009a74502"
      },
      "source": [
        "event[:,'DRIVAS, Dimitrios']"
      ],
      "execution_count": null,
      "outputs": [
        {
          "output_type": "error",
          "ename": "ValueError",
          "evalue": "ignored",
          "traceback": [
            "\u001b[0;31m---------------------------------------------------------------------------\u001b[0m",
            "\u001b[0;31mValueError\u001b[0m                                Traceback (most recent call last)",
            "\u001b[0;32m<ipython-input-25-1ad965980e41>\u001b[0m in \u001b[0;36m<module>\u001b[0;34m()\u001b[0m\n\u001b[0;32m----> 1\u001b[0;31m \u001b[0mevent\u001b[0m\u001b[0;34m[\u001b[0m\u001b[0;34m:\u001b[0m\u001b[0;34m,\u001b[0m\u001b[0;34m'DRIVAS, Dimitrios'\u001b[0m\u001b[0;34m]\u001b[0m\u001b[0;34m\u001b[0m\u001b[0;34m\u001b[0m\u001b[0m\n\u001b[0m",
            "\u001b[0;32m/usr/local/lib/python3.6/dist-packages/pandas/core/series.py\u001b[0m in \u001b[0;36m__getitem__\u001b[0;34m(self, key)\u001b[0m\n\u001b[1;32m    908\u001b[0m             \u001b[0mkey\u001b[0m \u001b[0;34m=\u001b[0m \u001b[0mcheck_bool_indexer\u001b[0m\u001b[0;34m(\u001b[0m\u001b[0mself\u001b[0m\u001b[0;34m.\u001b[0m\u001b[0mindex\u001b[0m\u001b[0;34m,\u001b[0m \u001b[0mkey\u001b[0m\u001b[0;34m)\u001b[0m\u001b[0;34m\u001b[0m\u001b[0;34m\u001b[0m\u001b[0m\n\u001b[1;32m    909\u001b[0m \u001b[0;34m\u001b[0m\u001b[0m\n\u001b[0;32m--> 910\u001b[0;31m         \u001b[0;32mreturn\u001b[0m \u001b[0mself\u001b[0m\u001b[0;34m.\u001b[0m\u001b[0m_get_with\u001b[0m\u001b[0;34m(\u001b[0m\u001b[0mkey\u001b[0m\u001b[0;34m)\u001b[0m\u001b[0;34m\u001b[0m\u001b[0;34m\u001b[0m\u001b[0m\n\u001b[0m\u001b[1;32m    911\u001b[0m \u001b[0;34m\u001b[0m\u001b[0m\n\u001b[1;32m    912\u001b[0m     \u001b[0;32mdef\u001b[0m \u001b[0m_get_with\u001b[0m\u001b[0;34m(\u001b[0m\u001b[0mself\u001b[0m\u001b[0;34m,\u001b[0m \u001b[0mkey\u001b[0m\u001b[0;34m)\u001b[0m\u001b[0;34m:\u001b[0m\u001b[0;34m\u001b[0m\u001b[0;34m\u001b[0m\u001b[0m\n",
            "\u001b[0;32m/usr/local/lib/python3.6/dist-packages/pandas/core/series.py\u001b[0m in \u001b[0;36m_get_with\u001b[0;34m(self, key)\u001b[0m\n\u001b[1;32m    921\u001b[0m         \u001b[0;32melif\u001b[0m \u001b[0misinstance\u001b[0m\u001b[0;34m(\u001b[0m\u001b[0mkey\u001b[0m\u001b[0;34m,\u001b[0m \u001b[0mtuple\u001b[0m\u001b[0;34m)\u001b[0m\u001b[0;34m:\u001b[0m\u001b[0;34m\u001b[0m\u001b[0;34m\u001b[0m\u001b[0m\n\u001b[1;32m    922\u001b[0m             \u001b[0;32mtry\u001b[0m\u001b[0;34m:\u001b[0m\u001b[0;34m\u001b[0m\u001b[0;34m\u001b[0m\u001b[0m\n\u001b[0;32m--> 923\u001b[0;31m                 \u001b[0;32mreturn\u001b[0m \u001b[0mself\u001b[0m\u001b[0;34m.\u001b[0m\u001b[0m_get_values_tuple\u001b[0m\u001b[0;34m(\u001b[0m\u001b[0mkey\u001b[0m\u001b[0;34m)\u001b[0m\u001b[0;34m\u001b[0m\u001b[0;34m\u001b[0m\u001b[0m\n\u001b[0m\u001b[1;32m    924\u001b[0m             \u001b[0;32mexcept\u001b[0m \u001b[0mValueError\u001b[0m\u001b[0;34m:\u001b[0m\u001b[0;34m\u001b[0m\u001b[0;34m\u001b[0m\u001b[0m\n\u001b[1;32m    925\u001b[0m                 \u001b[0;31m# if we don't have a MultiIndex, we may still be able to handle\u001b[0m\u001b[0;34m\u001b[0m\u001b[0;34m\u001b[0m\u001b[0;34m\u001b[0m\u001b[0m\n",
            "\u001b[0;32m/usr/local/lib/python3.6/dist-packages/pandas/core/series.py\u001b[0m in \u001b[0;36m_get_values_tuple\u001b[0;34m(self, key)\u001b[0m\n\u001b[1;32m    972\u001b[0m \u001b[0;34m\u001b[0m\u001b[0m\n\u001b[1;32m    973\u001b[0m         \u001b[0;32mif\u001b[0m \u001b[0;32mnot\u001b[0m \u001b[0misinstance\u001b[0m\u001b[0;34m(\u001b[0m\u001b[0mself\u001b[0m\u001b[0;34m.\u001b[0m\u001b[0mindex\u001b[0m\u001b[0;34m,\u001b[0m \u001b[0mMultiIndex\u001b[0m\u001b[0;34m)\u001b[0m\u001b[0;34m:\u001b[0m\u001b[0;34m\u001b[0m\u001b[0;34m\u001b[0m\u001b[0m\n\u001b[0;32m--> 974\u001b[0;31m             \u001b[0;32mraise\u001b[0m \u001b[0mValueError\u001b[0m\u001b[0;34m(\u001b[0m\u001b[0;34m\"Can only tuple-index with a MultiIndex\"\u001b[0m\u001b[0;34m)\u001b[0m\u001b[0;34m\u001b[0m\u001b[0;34m\u001b[0m\u001b[0m\n\u001b[0m\u001b[1;32m    975\u001b[0m \u001b[0;34m\u001b[0m\u001b[0m\n\u001b[1;32m    976\u001b[0m         \u001b[0;31m# If key is contained, would have returned by now\u001b[0m\u001b[0;34m\u001b[0m\u001b[0;34m\u001b[0m\u001b[0;34m\u001b[0m\u001b[0m\n",
            "\u001b[0;31mValueError\u001b[0m: Can only tuple-index with a MultiIndex"
          ]
        }
      ]
    },
    {
      "cell_type": "code",
      "metadata": {
        "id": "9ul_hiem9dq7",
        "colab_type": "code",
        "colab": {
          "base_uri": "https://localhost:8080/",
          "height": 408
        },
        "outputId": "dc3b6bca-f359-4588-bc15-91e76dcaf450"
      },
      "source": [
        "event['PHELPS, Michael']"
      ],
      "execution_count": null,
      "outputs": [
        {
          "output_type": "execute_result",
          "data": {
            "text/plain": [
              "PHELPS, Michael            100M Butterfly\n",
              "PHELPS, Michael            200M Butterfly\n",
              "PHELPS, Michael            200M Freestyle\n",
              "PHELPS, Michael    200M Individual Medley\n",
              "PHELPS, Michael    400M Individual Medley\n",
              "PHELPS, Michael    4X100M Freestyle Relay\n",
              "PHELPS, Michael       4X100M Medley Relay\n",
              "PHELPS, Michael    4X200M Freestyle Relay\n",
              "PHELPS, Michael            100M Butterfly\n",
              "PHELPS, Michael            200M Butterfly\n",
              "PHELPS, Michael            200M Freestyle\n",
              "PHELPS, Michael    200M Individual Medley\n",
              "PHELPS, Michael    400M Individual Medley\n",
              "PHELPS, Michael    4X100M Freestyle Relay\n",
              "PHELPS, Michael       4X100M Medley Relay\n",
              "PHELPS, Michael    4X200M Freestyle Relay\n",
              "PHELPS, Michael            100M Butterfly\n",
              "PHELPS, Michael            200M Butterfly\n",
              "PHELPS, Michael               200M Medley\n",
              "PHELPS, Michael          4X100M Freestyle\n",
              "PHELPS, Michael             4X100M Medley\n",
              "PHELPS, Michael          4X200M Freestyle\n",
              "Name: Event, dtype: object"
            ]
          },
          "metadata": {
            "tags": []
          },
          "execution_count": 26
        }
      ]
    },
    {
      "cell_type": "code",
      "metadata": {
        "id": "4nPuArML9mrx",
        "colab_type": "code",
        "colab": {
          "base_uri": "https://localhost:8080/",
          "height": 595
        },
        "outputId": "6f31f2e4-7458-4fe3-cbdc-553d02478673"
      },
      "source": [
        "event[['PHELPS, Michael', 'LEWIS, Carl' ]]"
      ],
      "execution_count": null,
      "outputs": [
        {
          "output_type": "execute_result",
          "data": {
            "text/plain": [
              "Athlete\n",
              "PHELPS, Michael            100M Butterfly\n",
              "PHELPS, Michael            200M Butterfly\n",
              "PHELPS, Michael            200M Freestyle\n",
              "PHELPS, Michael    200M Individual Medley\n",
              "PHELPS, Michael    400M Individual Medley\n",
              "PHELPS, Michael    4X100M Freestyle Relay\n",
              "PHELPS, Michael       4X100M Medley Relay\n",
              "PHELPS, Michael    4X200M Freestyle Relay\n",
              "PHELPS, Michael            100M Butterfly\n",
              "PHELPS, Michael            200M Butterfly\n",
              "PHELPS, Michael            200M Freestyle\n",
              "PHELPS, Michael    200M Individual Medley\n",
              "PHELPS, Michael    400M Individual Medley\n",
              "PHELPS, Michael    4X100M Freestyle Relay\n",
              "PHELPS, Michael       4X100M Medley Relay\n",
              "PHELPS, Michael    4X200M Freestyle Relay\n",
              "PHELPS, Michael            100M Butterfly\n",
              "PHELPS, Michael            200M Butterfly\n",
              "PHELPS, Michael               200M Medley\n",
              "PHELPS, Michael          4X100M Freestyle\n",
              "PHELPS, Michael             4X100M Medley\n",
              "PHELPS, Michael          4X200M Freestyle\n",
              "LEWIS, Carl                          100M\n",
              "LEWIS, Carl                          200M\n",
              "LEWIS, Carl                  4X100M Relay\n",
              "LEWIS, Carl                     Long Jump\n",
              "LEWIS, Carl                          100M\n",
              "LEWIS, Carl                          200M\n",
              "LEWIS, Carl                     Long Jump\n",
              "LEWIS, Carl                  4X100M Relay\n",
              "LEWIS, Carl                     Long Jump\n",
              "LEWIS, Carl                     Long Jump\n",
              "Name: Event, dtype: object"
            ]
          },
          "metadata": {
            "tags": []
          },
          "execution_count": 28
        }
      ]
    },
    {
      "cell_type": "code",
      "metadata": {
        "id": "PswQ88aG-HUW",
        "colab_type": "code",
        "colab": {
          "base_uri": "https://localhost:8080/",
          "height": 425
        },
        "outputId": "89b8c2d9-5c8d-4b26-d213-67bcac33b9d0"
      },
      "source": [
        "event.loc['PHELPS, Michael']"
      ],
      "execution_count": null,
      "outputs": [
        {
          "output_type": "execute_result",
          "data": {
            "text/plain": [
              "Athlete\n",
              "PHELPS, Michael            100M Butterfly\n",
              "PHELPS, Michael            200M Butterfly\n",
              "PHELPS, Michael            200M Freestyle\n",
              "PHELPS, Michael    200M Individual Medley\n",
              "PHELPS, Michael    400M Individual Medley\n",
              "PHELPS, Michael    4X100M Freestyle Relay\n",
              "PHELPS, Michael       4X100M Medley Relay\n",
              "PHELPS, Michael    4X200M Freestyle Relay\n",
              "PHELPS, Michael            100M Butterfly\n",
              "PHELPS, Michael            200M Butterfly\n",
              "PHELPS, Michael            200M Freestyle\n",
              "PHELPS, Michael    200M Individual Medley\n",
              "PHELPS, Michael    400M Individual Medley\n",
              "PHELPS, Michael    4X100M Freestyle Relay\n",
              "PHELPS, Michael       4X100M Medley Relay\n",
              "PHELPS, Michael    4X200M Freestyle Relay\n",
              "PHELPS, Michael            100M Butterfly\n",
              "PHELPS, Michael            200M Butterfly\n",
              "PHELPS, Michael               200M Medley\n",
              "PHELPS, Michael          4X100M Freestyle\n",
              "PHELPS, Michael             4X100M Medley\n",
              "PHELPS, Michael          4X200M Freestyle\n",
              "Name: Event, dtype: object"
            ]
          },
          "metadata": {
            "tags": []
          },
          "execution_count": 29
        }
      ]
    },
    {
      "cell_type": "code",
      "metadata": {
        "id": "3xpSGW8b-bl-",
        "colab_type": "code",
        "colab": {
          "base_uri": "https://localhost:8080/",
          "height": 595
        },
        "outputId": "dd60a719-d9e2-44a9-9ea8-164b74bbb377"
      },
      "source": [
        "event.loc[['PHELPS, Michael', 'LEWIS, Carl']]"
      ],
      "execution_count": null,
      "outputs": [
        {
          "output_type": "execute_result",
          "data": {
            "text/plain": [
              "Athlete\n",
              "PHELPS, Michael            100M Butterfly\n",
              "PHELPS, Michael            200M Butterfly\n",
              "PHELPS, Michael            200M Freestyle\n",
              "PHELPS, Michael    200M Individual Medley\n",
              "PHELPS, Michael    400M Individual Medley\n",
              "PHELPS, Michael    4X100M Freestyle Relay\n",
              "PHELPS, Michael       4X100M Medley Relay\n",
              "PHELPS, Michael    4X200M Freestyle Relay\n",
              "PHELPS, Michael            100M Butterfly\n",
              "PHELPS, Michael            200M Butterfly\n",
              "PHELPS, Michael            200M Freestyle\n",
              "PHELPS, Michael    200M Individual Medley\n",
              "PHELPS, Michael    400M Individual Medley\n",
              "PHELPS, Michael    4X100M Freestyle Relay\n",
              "PHELPS, Michael       4X100M Medley Relay\n",
              "PHELPS, Michael    4X200M Freestyle Relay\n",
              "PHELPS, Michael            100M Butterfly\n",
              "PHELPS, Michael            200M Butterfly\n",
              "PHELPS, Michael               200M Medley\n",
              "PHELPS, Michael          4X100M Freestyle\n",
              "PHELPS, Michael             4X100M Medley\n",
              "PHELPS, Michael          4X200M Freestyle\n",
              "LEWIS, Carl                          100M\n",
              "LEWIS, Carl                          200M\n",
              "LEWIS, Carl                  4X100M Relay\n",
              "LEWIS, Carl                     Long Jump\n",
              "LEWIS, Carl                          100M\n",
              "LEWIS, Carl                          200M\n",
              "LEWIS, Carl                     Long Jump\n",
              "LEWIS, Carl                  4X100M Relay\n",
              "LEWIS, Carl                     Long Jump\n",
              "LEWIS, Carl                     Long Jump\n",
              "Name: Event, dtype: object"
            ]
          },
          "metadata": {
            "tags": []
          },
          "execution_count": 30
        }
      ]
    },
    {
      "cell_type": "code",
      "metadata": {
        "id": "AWqT3l8q-r8g",
        "colab_type": "code",
        "colab": {}
      },
      "source": [
        ""
      ],
      "execution_count": null,
      "outputs": []
    }
  ]
}